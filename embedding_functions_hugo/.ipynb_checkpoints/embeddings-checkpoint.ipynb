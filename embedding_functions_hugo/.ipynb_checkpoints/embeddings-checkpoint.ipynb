{
 "cells": [
  {
   "cell_type": "code",
   "execution_count": 103,
   "metadata": {},
   "outputs": [
    {
     "name": "stderr",
     "output_type": "stream",
     "text": [
      "[nltk_data] Error loading punkt: <urlopen error [SSL:\n",
      "[nltk_data]     CERTIFICATE_VERIFY_FAILED] certificate verify failed:\n",
      "[nltk_data]     unable to get local issuer certificate (_ssl.c:997)>\n"
     ]
    }
   ],
   "source": [
    "from sentence_transformers import SentenceTransformer\n",
    "sbert_model = SentenceTransformer('bert-base-nli-mean-tokens')\n",
    "import nltk\n",
    "nltk.download('punkt')\n",
    "from nltk.tokenize import word_tokenize\n",
    "import numpy as np\n",
    "from sklearn.decomposition import PCA\n",
    "import matplotlib.pyplot as plt"
   ]
  },
  {
   "cell_type": "code",
   "execution_count": 104,
   "metadata": {},
   "outputs": [],
   "source": [
    "sentences = ['I love Trump', 'I love biden', 'I hate liberals!', 'I love pancakes', 'I\\'m racist!', 'Biden is Awesome!','I\\m a gamer', 'Q-anon is real', 'Matt Damon is awesome','The president of america is Joe biden', 'China is located in Asia', 'My balls are itchy', 'No', 'My mom is from Italy']\n",
    "sentence_embeddings = sbert_model.encode(sentences)"
   ]
  },
  {
   "cell_type": "code",
   "execution_count": 116,
   "metadata": {},
   "outputs": [
    {
     "data": {
      "text/plain": [
       "{'I love biden': array([-8.402328], dtype=float32),\n",
       " 'Biden is Awesome!': array([-7.9929285], dtype=float32),\n",
       " 'I love Trump': array([-7.8019543], dtype=float32),\n",
       " 'Matt Damon is awesome': array([-6.7235007], dtype=float32),\n",
       " 'Q-anon is real': array([-5.160504], dtype=float32),\n",
       " 'I love pancakes': array([-4.976029], dtype=float32),\n",
       " 'I\\\\m a gamer': array([-0.05504645], dtype=float32),\n",
       " 'My mom is from Italy': array([3.253688], dtype=float32),\n",
       " 'The president of america is Joe biden': array([3.4457064], dtype=float32),\n",
       " 'My balls are itchy': array([4.6098356], dtype=float32),\n",
       " 'China is located in Asia': array([5.2512026], dtype=float32),\n",
       " \"I'm racist!\": array([6.567009], dtype=float32),\n",
       " 'No': array([8.032716], dtype=float32),\n",
       " 'I hate liberals!': array([9.952129], dtype=float32)}"
      ]
     },
     "execution_count": 116,
     "metadata": {},
     "output_type": "execute_result"
    }
   ],
   "source": [
    "sorted_by_values = {k: v for k, v in sorted(xy.items(), key=lambda item: item[1])}"
   ]
  },
  {
   "cell_type": "code",
   "execution_count": 128,
   "metadata": {},
   "outputs": [],
   "source": [
    "def embed_comments (comment_list):\n",
    "    from sentence_transformers import SentenceTransformer\n",
    "    sbert_model = SentenceTransformer('bert-base-nli-mean-tokens')\n",
    "    import nltk\n",
    "    nltk.download('punkt')\n",
    "    from nltk.tokenize import word_tokenize\n",
    "    sentences = comment_list\n",
    "    sentence_embeddings = sbert_model.encode(sentences)\n",
    "    return sentence_embeddings\n",
    "\n",
    "def two_dims(sentences):\n",
    "    import numpy as np\n",
    "    from sklearn.decomposition import PCA\n",
    "    import matplotlib.pyplot as plt\n",
    "    embedded_sens = embed_comments(sentences)\n",
    "    pca = PCA(n_components=2)\n",
    "    new_2d = pca.fit_transform(embedded_sens)\n",
    "    x = []\n",
    "    y = []\n",
    "    for idx,i, in enumerate(new_2d):\n",
    "        #print(i[0],i[1], sentences[idx])\n",
    "        x.append(i[0])\n",
    "        y.append(i[1])\n",
    "    plot = plt.scatter(x = x, y=y)\n",
    "    return [x,y,sentences], plot\n",
    "\n",
    "def one_dim(sentences):\n",
    "    import numpy as np\n",
    "    from sklearn.decomposition import PCA\n",
    "    import matplotlib.pyplot as plt\n",
    "    embedded_sens = embed_comments(sentences)\n",
    "    pca2 = PCA(n_components=1)\n",
    "    new_1d = pca2.fit_transform(sentence_embeddings)\n",
    "    xy = {}\n",
    "    for idx,i, in enumerate(new_1d):\n",
    "        xy[sentences[idx]] = i\n",
    "    plot = plt.scatter(xy.values(),[0 for i in range(len(xy))])\n",
    "    return xy, plot"
   ]
  },
  {
   "cell_type": "code",
   "execution_count": null,
   "metadata": {},
   "outputs": [],
   "source": []
  }
 ],
 "metadata": {
  "kernelspec": {
   "display_name": "Python 3 (ipykernel)",
   "language": "python",
   "name": "python3"
  },
  "language_info": {
   "codemirror_mode": {
    "name": "ipython",
    "version": 3
   },
   "file_extension": ".py",
   "mimetype": "text/x-python",
   "name": "python",
   "nbconvert_exporter": "python",
   "pygments_lexer": "ipython3",
   "version": "3.10.9"
  },
  "vscode": {
   "interpreter": {
    "hash": "aee8b7b246df8f9039afb4144a1f6fd8d2ca17a180786b69acc140d282b71a49"
   }
  }
 },
 "nbformat": 4,
 "nbformat_minor": 2
}
