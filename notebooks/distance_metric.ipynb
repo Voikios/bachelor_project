{
 "cells": [
  {
   "attachments": {},
   "cell_type": "markdown",
   "metadata": {},
   "source": [
    "# Michele Code"
   ]
  },
  {
   "cell_type": "code",
   "execution_count": 83,
   "metadata": {},
   "outputs": [],
   "source": [
    "import networkx as nx\n",
    "import numpy as np\n",
    "from scipy.special import binom\n",
    "from scipy.sparse import csgraph\n",
    "\n",
    "# Function to calculate the pseudoinverse of the Laplacian of the network\n",
    "def _ge_Q(network):\n",
    "    A = nx.adjacency_matrix(network).todense().astype(float)\n",
    "    return np.linalg.pinv(csgraph.laplacian(np.matrix(A), normed=False))\n",
    "\n",
    "def ge(src, trg, network, Q=None):\n",
    "    \"\"\"Calculate GE for network.\n",
    "\n",
    "    Parameters:\n",
    "    ----------\n",
    "    srg: vector specifying node polarities\n",
    "    trg: vector specifying node polarities\n",
    "    network: networkx graph\n",
    "    Q: pseudoinverse of Laplacian of the network\n",
    "    \"\"\"\n",
    "    if nx.number_connected_components(network) > 1:\n",
    "        raise ValueError(\"\"\"Node vector distance is only valid if calculated on a network with a single connected component.\n",
    "                       The network passed has more than one.\"\"\")\n",
    "    src = np.array([src[n] if n in src else 0. for n in network.nodes()])\n",
    "    trg = np.array([trg[n] if n in trg else 0. for n in network.nodes()])\n",
    "    diff = src - trg\n",
    "    if Q is None:\n",
    "        Q = _ge_Q(network)\n",
    "\n",
    "    ge_dist = diff.T.dot(np.array(Q).dot(diff))\n",
    "\n",
    "    if ge_dist < 0:\n",
    "        ge_dist = 0\n",
    "\n",
    "    return np.sqrt(ge_dist)\n",
    "\n",
    "def resistance(network):\n",
    "    \"\"\"Calculate effective resistance for each node pair in the network.\n",
    "\n",
    "    Parameters:\n",
    "    ----------\n",
    "    network: networkx graph.\n",
    "    \"\"\"\n",
    "\n",
    "    n = len(network.nodes)\n",
    "    L = csgraph.laplacian(np.matrix(nx.adjacency_matrix(network).todense().astype(float)), normed=False)\n",
    "    Phi = np.ones((n, n)) / n\n",
    "    Gamma = np.linalg.pinv(L + Phi)\n",
    "\n",
    "    # calculate resistance for all node pairs\n",
    "    res = np.array(\n",
    "        [[Gamma[i, i] + Gamma[j, j] - (2 * Gamma[i, j]) if i != j else 0 for j in range(n)] for i in range(n)])\n",
    "\n",
    "    return res\n",
    "\n",
    "def ge_multipolar(os, network, Q = None):\n",
    "    \"\"\"Calculate multipolar GE for network.\n",
    "\n",
    "    Parameters:\n",
    "    ----------\n",
    "    os: vector specifying all node polarities\n",
    "    network: networkx graph\n",
    "    Q: pseudoinverse of Laplacian of the network\n",
    "    \"\"\"\n",
    "    if nx.number_connected_components(network) > 1:\n",
    "        raise ValueError(\"\"\"Node vector distance is only valid if calculated on a network with a single connected component.\n",
    "                       The network passed has more than one.\"\"\")\n",
    "    os = [np.array([os[n][i] for n in network.nodes()]) for i in range(os[0].shape[0])]\n",
    "    if Q is None:\n",
    "        Q = _ge_Q(network)\n",
    "    conflict_sum = 0\n",
    "    for i in range(len(os) - 1):\n",
    "       for j in range(i + 1, len(os)):\n",
    "          diff = os[i] - os[j]\n",
    "          conflict_sum += diff.T.dot(np.array(Q).dot(diff))\n",
    "\n",
    "    ge_dist = conflict_sum / binom(len(os), 2)\n",
    "\n",
    "    if ge_dist < 0:\n",
    "        ge_dist = 0\n",
    "\n",
    "    return np.sqrt(ge_dist)\n"
   ]
  },
  {
   "cell_type": "code",
   "execution_count": 1,
   "metadata": {},
   "outputs": [],
   "source": [
    "import pandas as pd\n",
    "import numpy as np\n",
    "import networkx as nx\n",
    "import sys\n",
    "sys.path.append('../')\n",
    "from michele_measures.ge_polarization.modules import ps\n",
    "\n",
    "\n",
    "\n"
   ]
  },
  {
   "attachments": {},
   "cell_type": "markdown",
   "metadata": {},
   "source": [
    "# How do?\n",
    "\n"
   ]
  },
  {
   "cell_type": "code",
   "execution_count": 31,
   "metadata": {},
   "outputs": [],
   "source": [
    "pol_g = nx.read_gexf('../data/23march_chur/graphs/gaming_network.gexf').to_undirected()\n",
    "largest_cc = [pol_g.subgraph(c).copy() for c in nx.connected_components(pol_g)][0]"
   ]
  },
  {
   "cell_type": "code",
   "execution_count": 93,
   "metadata": {},
   "outputs": [],
   "source": [
    "node_values = nx.get_node_attributes(largest_cc, 'polarity').values()"
   ]
  },
  {
   "cell_type": "code",
   "execution_count": 94,
   "metadata": {},
   "outputs": [],
   "source": [
    "os_list = []\n",
    "for value in node_values:\n",
    "    os_list.append(np.array(value))"
   ]
  },
  {
   "cell_type": "code",
   "execution_count": 104,
   "metadata": {},
   "outputs": [],
   "source": [
    "def ge_multipolar_modified(os, network, Q = None):\n",
    "    \"\"\"Calculate multipolar GE for network.\n",
    "\n",
    "    Parameters:\n",
    "    ----------\n",
    "    os: vector specifying all node polarities\n",
    "    network: networkx graph\n",
    "    Q: pseudoinverse of Laplacian of the network\n",
    "    \"\"\"\n",
    "    if nx.number_connected_components(network) > 1:\n",
    "        raise ValueError(\"\"\"Node vector distance is only valid if calculated on a network with a single connected component.\n",
    "                       The network passed has more than one.\"\"\")\n",
    "    os = [np.array([os[n][i] for n in network.nodes()]) for i in range(os.shape[0])]\n",
    "    if Q is None:\n",
    "        Q = _ge_Q(network)\n",
    "    conflict_sum = 0\n",
    "    for i in range(len(os) - 1):\n",
    "       for j in range(i + 1, len(os)):\n",
    "          diff = os[i] - os[j]\n",
    "          conflict_sum += diff.T.dot(np.array(Q).dot(diff))\n",
    "    print(conflict_sum)\n",
    "    ge_dist = conflict_sum / binom(len(os), 2)\n",
    "\n",
    "    if ge_dist < 0:\n",
    "        ge_dist = 0\n",
    "\n",
    "    return np.sqrt(ge_dist)"
   ]
  },
  {
   "cell_type": "code",
   "execution_count": 105,
   "metadata": {},
   "outputs": [],
   "source": [
    "os = np.array(list(nx.get_node_attributes(largest_cc, 'polarity').values()))"
   ]
  },
  {
   "cell_type": "code",
   "execution_count": 106,
   "metadata": {},
   "outputs": [
    {
     "ename": "IndexError",
     "evalue": "only integers, slices (`:`), ellipsis (`...`), numpy.newaxis (`None`) and integer or boolean arrays are valid indices",
     "output_type": "error",
     "traceback": [
      "\u001b[0;31m---------------------------------------------------------------------------\u001b[0m",
      "\u001b[0;31mIndexError\u001b[0m                                Traceback (most recent call last)",
      "\u001b[1;32m/Users/christianrasmussen/Desktop/bsc3/Try_again/bachelor_project/notebooks/distance_metric.ipynb Cell 10\u001b[0m in \u001b[0;36m<cell line: 1>\u001b[0;34m()\u001b[0m\n\u001b[0;32m----> <a href='vscode-notebook-cell:/Users/christianrasmussen/Desktop/bsc3/Try_again/bachelor_project/notebooks/distance_metric.ipynb#X11sZmlsZQ%3D%3D?line=0'>1</a>\u001b[0m ge_multipolar_modified(os, largest_cc)\n",
      "\u001b[1;32m/Users/christianrasmussen/Desktop/bsc3/Try_again/bachelor_project/notebooks/distance_metric.ipynb Cell 10\u001b[0m in \u001b[0;36mge_multipolar_modified\u001b[0;34m(os, network, Q)\u001b[0m\n\u001b[1;32m     <a href='vscode-notebook-cell:/Users/christianrasmussen/Desktop/bsc3/Try_again/bachelor_project/notebooks/distance_metric.ipynb#X11sZmlsZQ%3D%3D?line=9'>10</a>\u001b[0m \u001b[39mif\u001b[39;00m nx\u001b[39m.\u001b[39mnumber_connected_components(network) \u001b[39m>\u001b[39m \u001b[39m1\u001b[39m:\n\u001b[1;32m     <a href='vscode-notebook-cell:/Users/christianrasmussen/Desktop/bsc3/Try_again/bachelor_project/notebooks/distance_metric.ipynb#X11sZmlsZQ%3D%3D?line=10'>11</a>\u001b[0m     \u001b[39mraise\u001b[39;00m \u001b[39mValueError\u001b[39;00m(\u001b[39m\"\"\"\u001b[39m\u001b[39mNode vector distance is only valid if calculated on a network with a single connected component.\u001b[39m\n\u001b[1;32m     <a href='vscode-notebook-cell:/Users/christianrasmussen/Desktop/bsc3/Try_again/bachelor_project/notebooks/distance_metric.ipynb#X11sZmlsZQ%3D%3D?line=11'>12</a>\u001b[0m \u001b[39m                   The network passed has more than one.\u001b[39m\u001b[39m\"\"\"\u001b[39m)\n\u001b[0;32m---> <a href='vscode-notebook-cell:/Users/christianrasmussen/Desktop/bsc3/Try_again/bachelor_project/notebooks/distance_metric.ipynb#X11sZmlsZQ%3D%3D?line=12'>13</a>\u001b[0m os \u001b[39m=\u001b[39m [np\u001b[39m.\u001b[39marray([os[n][i] \u001b[39mfor\u001b[39;00m n \u001b[39min\u001b[39;00m network\u001b[39m.\u001b[39mnodes()]) \u001b[39mfor\u001b[39;00m i \u001b[39min\u001b[39;00m \u001b[39mrange\u001b[39m(os\u001b[39m.\u001b[39mshape[\u001b[39m0\u001b[39m])]\n\u001b[1;32m     <a href='vscode-notebook-cell:/Users/christianrasmussen/Desktop/bsc3/Try_again/bachelor_project/notebooks/distance_metric.ipynb#X11sZmlsZQ%3D%3D?line=13'>14</a>\u001b[0m \u001b[39mif\u001b[39;00m Q \u001b[39mis\u001b[39;00m \u001b[39mNone\u001b[39;00m:\n\u001b[1;32m     <a href='vscode-notebook-cell:/Users/christianrasmussen/Desktop/bsc3/Try_again/bachelor_project/notebooks/distance_metric.ipynb#X11sZmlsZQ%3D%3D?line=14'>15</a>\u001b[0m     Q \u001b[39m=\u001b[39m _ge_Q(network)\n",
      "\u001b[1;32m/Users/christianrasmussen/Desktop/bsc3/Try_again/bachelor_project/notebooks/distance_metric.ipynb Cell 10\u001b[0m in \u001b[0;36m<listcomp>\u001b[0;34m(.0)\u001b[0m\n\u001b[1;32m     <a href='vscode-notebook-cell:/Users/christianrasmussen/Desktop/bsc3/Try_again/bachelor_project/notebooks/distance_metric.ipynb#X11sZmlsZQ%3D%3D?line=9'>10</a>\u001b[0m \u001b[39mif\u001b[39;00m nx\u001b[39m.\u001b[39mnumber_connected_components(network) \u001b[39m>\u001b[39m \u001b[39m1\u001b[39m:\n\u001b[1;32m     <a href='vscode-notebook-cell:/Users/christianrasmussen/Desktop/bsc3/Try_again/bachelor_project/notebooks/distance_metric.ipynb#X11sZmlsZQ%3D%3D?line=10'>11</a>\u001b[0m     \u001b[39mraise\u001b[39;00m \u001b[39mValueError\u001b[39;00m(\u001b[39m\"\"\"\u001b[39m\u001b[39mNode vector distance is only valid if calculated on a network with a single connected component.\u001b[39m\n\u001b[1;32m     <a href='vscode-notebook-cell:/Users/christianrasmussen/Desktop/bsc3/Try_again/bachelor_project/notebooks/distance_metric.ipynb#X11sZmlsZQ%3D%3D?line=11'>12</a>\u001b[0m \u001b[39m                   The network passed has more than one.\u001b[39m\u001b[39m\"\"\"\u001b[39m)\n\u001b[0;32m---> <a href='vscode-notebook-cell:/Users/christianrasmussen/Desktop/bsc3/Try_again/bachelor_project/notebooks/distance_metric.ipynb#X11sZmlsZQ%3D%3D?line=12'>13</a>\u001b[0m os \u001b[39m=\u001b[39m [np\u001b[39m.\u001b[39marray([os[n][i] \u001b[39mfor\u001b[39;00m n \u001b[39min\u001b[39;00m network\u001b[39m.\u001b[39mnodes()]) \u001b[39mfor\u001b[39;00m i \u001b[39min\u001b[39;00m \u001b[39mrange\u001b[39m(os\u001b[39m.\u001b[39mshape[\u001b[39m0\u001b[39m])]\n\u001b[1;32m     <a href='vscode-notebook-cell:/Users/christianrasmussen/Desktop/bsc3/Try_again/bachelor_project/notebooks/distance_metric.ipynb#X11sZmlsZQ%3D%3D?line=13'>14</a>\u001b[0m \u001b[39mif\u001b[39;00m Q \u001b[39mis\u001b[39;00m \u001b[39mNone\u001b[39;00m:\n\u001b[1;32m     <a href='vscode-notebook-cell:/Users/christianrasmussen/Desktop/bsc3/Try_again/bachelor_project/notebooks/distance_metric.ipynb#X11sZmlsZQ%3D%3D?line=14'>15</a>\u001b[0m     Q \u001b[39m=\u001b[39m _ge_Q(network)\n",
      "\u001b[1;32m/Users/christianrasmussen/Desktop/bsc3/Try_again/bachelor_project/notebooks/distance_metric.ipynb Cell 10\u001b[0m in \u001b[0;36m<listcomp>\u001b[0;34m(.0)\u001b[0m\n\u001b[1;32m     <a href='vscode-notebook-cell:/Users/christianrasmussen/Desktop/bsc3/Try_again/bachelor_project/notebooks/distance_metric.ipynb#X11sZmlsZQ%3D%3D?line=9'>10</a>\u001b[0m \u001b[39mif\u001b[39;00m nx\u001b[39m.\u001b[39mnumber_connected_components(network) \u001b[39m>\u001b[39m \u001b[39m1\u001b[39m:\n\u001b[1;32m     <a href='vscode-notebook-cell:/Users/christianrasmussen/Desktop/bsc3/Try_again/bachelor_project/notebooks/distance_metric.ipynb#X11sZmlsZQ%3D%3D?line=10'>11</a>\u001b[0m     \u001b[39mraise\u001b[39;00m \u001b[39mValueError\u001b[39;00m(\u001b[39m\"\"\"\u001b[39m\u001b[39mNode vector distance is only valid if calculated on a network with a single connected component.\u001b[39m\n\u001b[1;32m     <a href='vscode-notebook-cell:/Users/christianrasmussen/Desktop/bsc3/Try_again/bachelor_project/notebooks/distance_metric.ipynb#X11sZmlsZQ%3D%3D?line=11'>12</a>\u001b[0m \u001b[39m                   The network passed has more than one.\u001b[39m\u001b[39m\"\"\"\u001b[39m)\n\u001b[0;32m---> <a href='vscode-notebook-cell:/Users/christianrasmussen/Desktop/bsc3/Try_again/bachelor_project/notebooks/distance_metric.ipynb#X11sZmlsZQ%3D%3D?line=12'>13</a>\u001b[0m os \u001b[39m=\u001b[39m [np\u001b[39m.\u001b[39marray([os[n][i] \u001b[39mfor\u001b[39;00m n \u001b[39min\u001b[39;00m network\u001b[39m.\u001b[39mnodes()]) \u001b[39mfor\u001b[39;00m i \u001b[39min\u001b[39;00m \u001b[39mrange\u001b[39m(os\u001b[39m.\u001b[39mshape[\u001b[39m0\u001b[39m])]\n\u001b[1;32m     <a href='vscode-notebook-cell:/Users/christianrasmussen/Desktop/bsc3/Try_again/bachelor_project/notebooks/distance_metric.ipynb#X11sZmlsZQ%3D%3D?line=13'>14</a>\u001b[0m \u001b[39mif\u001b[39;00m Q \u001b[39mis\u001b[39;00m \u001b[39mNone\u001b[39;00m:\n\u001b[1;32m     <a href='vscode-notebook-cell:/Users/christianrasmussen/Desktop/bsc3/Try_again/bachelor_project/notebooks/distance_metric.ipynb#X11sZmlsZQ%3D%3D?line=14'>15</a>\u001b[0m     Q \u001b[39m=\u001b[39m _ge_Q(network)\n",
      "\u001b[0;31mIndexError\u001b[0m: only integers, slices (`:`), ellipsis (`...`), numpy.newaxis (`None`) and integer or boolean arrays are valid indices"
     ]
    }
   ],
   "source": [
    "ge_multipolar_modified(os, largest_cc)"
   ]
  },
  {
   "cell_type": "code",
   "execution_count": 103,
   "metadata": {},
   "outputs": [
    {
     "ename": "AttributeError",
     "evalue": "'list' object has no attribute 'shape'",
     "output_type": "error",
     "traceback": [
      "\u001b[0;31m---------------------------------------------------------------------------\u001b[0m",
      "\u001b[0;31mAttributeError\u001b[0m                            Traceback (most recent call last)",
      "\u001b[1;32m/Users/christianrasmussen/Desktop/bsc3/Try_again/bachelor_project/notebooks/distance_metric.ipynb Cell 11\u001b[0m in \u001b[0;36m<cell line: 1>\u001b[0;34m()\u001b[0m\n\u001b[0;32m----> <a href='vscode-notebook-cell:/Users/christianrasmussen/Desktop/bsc3/Try_again/bachelor_project/notebooks/distance_metric.ipynb#X22sZmlsZQ%3D%3D?line=0'>1</a>\u001b[0m os_list\u001b[39m.\u001b[39;49mshape\n",
      "\u001b[0;31mAttributeError\u001b[0m: 'list' object has no attribute 'shape'"
     ]
    }
   ],
   "source": [
    "os_list.shape"
   ]
  },
  {
   "cell_type": "code",
   "execution_count": 108,
   "metadata": {},
   "outputs": [
    {
     "data": {
      "text/plain": [
       "529"
      ]
     },
     "execution_count": 108,
     "metadata": {},
     "output_type": "execute_result"
    }
   ],
   "source": [
    "os.shape[0]"
   ]
  },
  {
   "cell_type": "code",
   "execution_count": null,
   "metadata": {},
   "outputs": [],
   "source": []
  }
 ],
 "metadata": {
  "kernelspec": {
   "display_name": "thesis",
   "language": "python",
   "name": "python3"
  },
  "language_info": {
   "codemirror_mode": {
    "name": "ipython",
    "version": 3
   },
   "file_extension": ".py",
   "mimetype": "text/x-python",
   "name": "python",
   "nbconvert_exporter": "python",
   "pygments_lexer": "ipython3",
   "version": "3.10.2"
  },
  "orig_nbformat": 4
 },
 "nbformat": 4,
 "nbformat_minor": 2
}
