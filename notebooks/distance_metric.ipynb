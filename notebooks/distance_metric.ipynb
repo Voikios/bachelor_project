{
 "cells": [
  {
   "cell_type": "code",
   "execution_count": 7,
   "metadata": {},
   "outputs": [],
   "source": [
    "import pandas as pd\n",
    "import numpy as np\n",
    "import networkx as nx\n",
    "import sys\n",
    "sys.path.append('../')\n",
    "from michele_measures.nvd_multilayer.implementation import network_distance as nd\n",
    "\n",
    "\n",
    "\n"
   ]
  },
  {
   "attachments": {},
   "cell_type": "markdown",
   "metadata": {},
   "source": [
    "# How do?\n",
    "\n"
   ]
  },
  {
   "cell_type": "code",
   "execution_count": 8,
   "metadata": {},
   "outputs": [],
   "source": [
    "pol_g = nx.read_gexf('../data/19march/graphs/gaming_network.gexf')"
   ]
  },
  {
   "cell_type": "code",
   "execution_count": 11,
   "metadata": {},
   "outputs": [
    {
     "data": {
      "text/plain": [
       "{'PUSClFER': -2,\n",
       " 'nipplemeetssandpaper': -3,\n",
       " 'youwillcomedownsoon2': 4,\n",
       " 'eru777': -4,\n",
       " 'Kid_Rebel1': 0,\n",
       " 'BenBeyaz': 2,\n",
       " 'landocharisma': 3,\n",
       " 'SimonNeedsMemes': 4,\n",
       " 'Racika': -1,\n",
       " 'Mr_donc': 0,\n",
       " 'jemist101': 1,\n",
       " 'AbatNaBitin': 2,\n",
       " 'my_witty_pseudonym': 7,\n",
       " 'ClanPsi609': 5,\n",
       " 'RayTracingOn': -2,\n",
       " 'PoopNDash': -5,\n",
       " 'M3tro1dhunt3r': -2,\n",
       " 'PROXeR__OiShi': -4,\n",
       " 'ijustwannanap': -1,\n",
       " 'PenetratorGod': -3,\n",
       " 'PseudoPrincess222': 2,\n",
       " 'mccuish': -4,\n",
       " 'gamingquarterly': 7,\n",
       " 'Solid_Snark': 6,\n",
       " 'Karlwithakay': 1,\n",
       " 'Exatal123': -5,\n",
       " 'Alzward': 9,\n",
       " 'CrossingEden': 4,\n",
       " 'ProKirie': 0,\n",
       " 'farrerj32': -3,\n",
       " 'Rustycougarmama': -1,\n",
       " 'Nyarlathotep-chan': -4,\n",
       " 'Isunova': -5,\n",
       " 'yadree': 6,\n",
       " 'RickyWinterborn': 8,\n",
       " 'Masspoint': 3,\n",
       " 'Denso95': -4,\n",
       " 'MoNKeY-HoRDe': 2,\n",
       " '-IIl': -2,\n",
       " 'SUPRVLLAN': -7,\n",
       " 'Eyedrink': -3,\n",
       " 'DJEduard1': -2,\n",
       " 'Justapersonmaybe': 5,\n",
       " 'Captainquizzical': -1,\n",
       " 'Man_of_many_spells': -7,\n",
       " 'blackwolf57': -1,\n",
       " 'Emulation_Maniac': 5,\n",
       " 'Alex_Da_Cat': -3,\n",
       " 'Sersch': -3,\n",
       " 'SirTacoBill': -6,\n",
       " 'NXGZ': 6,\n",
       " 'Random_Useless_Tips': -5,\n",
       " 'Dark-X': -2,\n",
       " 'naif3aref': 8,\n",
       " 'ElDabstroyero': -6,\n",
       " 'Rootsboy79': -1,\n",
       " 'amadeuschavez': 0,\n",
       " 'Creepy_Citizen': -2,\n",
       " 'WellClear': 3,\n",
       " 'SwiftIy2': -6,\n",
       " 'Macaveli54': 0,\n",
       " 'thedarklord176': 1,\n",
       " 'Elie0_0': 6,\n",
       " 'F0573R': 2,\n",
       " 'Smoky2111': 0,\n",
       " 'WalkingInsulin': -4,\n",
       " 'Joudeh_1996': 7,\n",
       " 'LoneMapper': -1,\n",
       " 'profmemeist420': 1}"
      ]
     },
     "execution_count": 11,
     "metadata": {},
     "output_type": "execute_result"
    }
   ],
   "source": [
    "nx.get_node_attributes(pol_g, 'polarity')"
   ]
  },
  {
   "cell_type": "code",
   "execution_count": 16,
   "metadata": {},
   "outputs": [
    {
     "name": "stdout",
     "output_type": "stream",
     "text": [
      "['Nyarlathotep-chan', 'TurboTBag', 'bryce_engineer', 'NES_Classical_Music', 'Shoji_Mezo', 'EarlGrey_Picard', 'sirbalz', 'montrealien', 'Vile35', 'stroud', 'ListerineAfterOral', 'Bloodsplatt', 'Disastrous_Rooster', 'cable010', 'Fenix-Renace', 'DevineAaron92']\n",
      "['BenBeyaz', 'Racika', 'AbatNaBitin', 'my_witty_pseudonym', 'ClanPsi609', 'RayTracingOn', 'M3tro1dhunt3r', 'Solid_Snark', 'ProKirie', 'farrerj32', 'Rustycougarmama', 'Isunova', 'yadree', 'RickyWinterborn', 'Masspoint', 'Denso95', 'SUPRVLLAN', 'Man_of_many_spells', 'blackwolf57', 'ElDabstroyero', 'amadeuschavez', 'Creepy_Citizen', 'WellClear', 'thedarklord176', 'Elie0_0', 'Smoky2111', 'WalkingInsulin', 'Joudeh_1996', 'profmemeist420']\n"
     ]
    }
   ],
   "source": [
    "print(sources)\n",
    "print(targets)"
   ]
  },
  {
   "attachments": {},
   "cell_type": "markdown",
   "metadata": {},
   "source": [
    "### Important when using network distance! \n",
    "src and trg should be python dictionaries whose keys are the nodes and values are their polarity/embedding. <br>\n",
    "G should just be the graph. <br>\n",
    "https://www.michelecoscia.com/?page_id=1733"
   ]
  },
  {
   "cell_type": "code",
   "execution_count": null,
   "metadata": {},
   "outputs": [],
   "source": [
    "nd.ge()"
   ]
  }
 ],
 "metadata": {
  "kernelspec": {
   "display_name": "thesis",
   "language": "python",
   "name": "python3"
  },
  "language_info": {
   "codemirror_mode": {
    "name": "ipython",
    "version": 3
   },
   "file_extension": ".py",
   "mimetype": "text/x-python",
   "name": "python",
   "nbconvert_exporter": "python",
   "pygments_lexer": "ipython3",
   "version": "3.8.13"
  },
  "orig_nbformat": 4
 },
 "nbformat": 4,
 "nbformat_minor": 2
}
