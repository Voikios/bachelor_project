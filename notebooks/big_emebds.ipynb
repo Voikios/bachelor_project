{
 "cells": [
  {
   "cell_type": "markdown",
   "metadata": {},
   "source": []
  },
  {
   "cell_type": "code",
   "execution_count": 2,
   "metadata": {},
   "outputs": [
    {
     "name": "stdout",
     "output_type": "stream",
     "text": [
      "Requirement already satisfied: sklearn in c:\\users\\chris\\anaconda3\\lib\\site-packages (0.0)\n",
      "Requirement already satisfied: scikit-learn in c:\\users\\chris\\anaconda3\\lib\\site-packages (from sklearn) (1.0.2)\n",
      "Requirement already satisfied: joblib>=0.11 in c:\\users\\chris\\anaconda3\\lib\\site-packages (from scikit-learn->sklearn) (0.17.0)\n",
      "Requirement already satisfied: numpy>=1.14.6 in c:\\users\\chris\\anaconda3\\lib\\site-packages (from scikit-learn->sklearn) (1.19.2)\n",
      "Requirement already satisfied: threadpoolctl>=2.0.0 in c:\\users\\chris\\anaconda3\\lib\\site-packages (from scikit-learn->sklearn) (2.1.0)\n",
      "Requirement already satisfied: scipy>=1.1.0 in c:\\users\\chris\\anaconda3\\lib\\site-packages (from scikit-learn->sklearn) (1.5.2)\n",
      "Note: you may need to restart the kernel to use updated packages.\n"
     ]
    }
   ],
   "source": [
    "%pip install sklearn"
   ]
  },
  {
   "cell_type": "code",
   "execution_count": 3,
   "metadata": {},
   "outputs": [],
   "source": [
    "# imports for using the notebook\n",
    "\n",
    "import pandas as pd\n",
    "import sys\n",
    "sys.path.append('../')\n",
    "from embedding_functions_hugo.embedding_functions import *\n",
    "from sklearn.preprocessing import StandardScaler\n",
    "import numpy as np\n",
    "from numpy import genfromtxt\n",
    "import nltk\n",
    "import matplotlib.pyplot as plt\n",
    "from sklearn.cluster import KMeans, SpectralClustering, AgglomerativeClustering, FeatureAgglomeration\n",
    "from sklearn.decomposition import PCA\n",
    "import seaborn as sns"
   ]
  },
  {
   "cell_type": "code",
   "execution_count": 4,
   "metadata": {},
   "outputs": [
    {
     "name": "stdout",
     "output_type": "stream",
     "text": [
      "lowering done! \n",
      "Contractions removed!\n",
      "urls away!\n",
      "htmls too!\n",
      "asciis outta here!\n",
      "special  characs done\n",
      "puncts done\n",
      "long one...\n"
     ]
    },
    {
     "name": "stderr",
     "output_type": "stream",
     "text": [
      "[nltk_data] Downloading package punkt to\n",
      "[nltk_data]     C:\\Users\\chris\\AppData\\Roaming\\nltk_data...\n",
      "[nltk_data]   Package punkt is already up-to-date!\n"
     ]
    }
   ],
   "source": [
    "def long_embeddings (csv_path, destination_path):\n",
    "    new_politics = shorten_and_clean_dataset(csv_path, 'comment_text',50)\n",
    "    author_dictionary = {}\n",
    "    for author, comment in zip(new_politics['comment_author'],new_politics['short']):\n",
    "        if author not in author_dictionary.keys():\n",
    "            author_dictionary[author] = ''\n",
    "            author_dictionary[author] += comment\n",
    "        else:\n",
    "            author_dictionary[author] += ' '+comment\n",
    "        author_dictionary[author] += ' '\n",
    "\n",
    "    comments = embed_comments(list(author_dictionary.values()))\n",
    "\n",
    "    for author, comment in zip(author_dictionary.keys(), comments):\n",
    "        author_dictionary[author] = comment\n",
    "\n",
    "    np.save(destination_path, comments)"
   ]
  },
  {
   "cell_type": "code",
   "execution_count": null,
   "metadata": {},
   "outputs": [],
   "source": [
    "long_embeddings('../data/scrapes/gaming.csv', '../data/big_embeddings/gaming.npy')\n",
    "long_embeddings('../data/scrapes/MaraudersGame.csv', '../data/big_embeddings/Marauders.npy')\n",
    "long_embeddings('../data/scrapes/EscapefromTarkov.csv', '../data/big_embeddings/Tarkov.npy')\n",
    "long_embeddings('../data/scrapes/SatisfactoryGame.csv', '../data/big_embeddings/Satisfactory.npy')"
   ]
  },
  {
   "cell_type": "code",
   "execution_count": null,
   "metadata": {},
   "outputs": [],
   "source": []
  }
 ],
 "metadata": {
  "kernelspec": {
   "display_name": "Python 3",
   "language": "python",
   "name": "python3"
  },
  "language_info": {
   "codemirror_mode": {
    "name": "ipython",
    "version": 3
   },
   "file_extension": ".py",
   "mimetype": "text/x-python",
   "name": "python",
   "nbconvert_exporter": "python",
   "pygments_lexer": "ipython3",
   "version": "3.10.2"
  },
  "orig_nbformat": 4,
  "vscode": {
   "interpreter": {
    "hash": "aee8b7b246df8f9039afb4144a1f6fd8d2ca17a180786b69acc140d282b71a49"
   }
  }
 },
 "nbformat": 4,
 "nbformat_minor": 2
}
