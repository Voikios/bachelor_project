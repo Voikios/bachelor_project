{
 "cells": [
  {
   "cell_type": "markdown",
   "metadata": {},
   "source": [
    "# Setup\n",
    "\n",
    "Tutorial for reddit scraping: https://www.geeksforgeeks.org/scraping-reddit-using-python/"
   ]
  },
  {
   "cell_type": "code",
   "execution_count": 1,
   "metadata": {},
   "outputs": [],
   "source": [
    "import praw\n",
    "import pandas as pd\n",
    "from praw.models import MoreComments\n",
    "# from tqdm.notebook import tqdm\n",
    "from tqdm import tqdm\n",
    "\n",
    "\n",
    "# ids for scraping (from christians setup)\n",
    "client_id = 'Ut5UgaAMOEWBELtYRWnw0g'\n",
    "client_secret = '5xGs1w6mav5Ke685afpG28Q8nfusmg'\n",
    "user_agent = 'polarity search'"
   ]
  },
  {
   "cell_type": "markdown",
   "metadata": {},
   "source": [
    "# Scraping\n",
    "\n",
    "First we initialize a read-only instance. A read-only instance can only scrape publicly available information and cannot upvote or otherwise interact like users can."
   ]
  },
  {
   "cell_type": "code",
   "execution_count": 2,
   "metadata": {},
   "outputs": [
    {
     "name": "stderr",
     "output_type": "stream",
     "text": [
      "Version 7.6.1 of praw is outdated. Version 7.7.0 was released Saturday February 25, 2023.\n"
     ]
    }
   ],
   "source": [
    "# Read-only instance\n",
    "reddit_read_only = praw.Reddit(client_id=client_id,         # your client id\n",
    "                               client_secret=client_secret,      # your client secret\n",
    "                               user_agent=user_agent)        # your user agent"
   ]
  },
  {
   "cell_type": "markdown",
   "metadata": {},
   "source": [
    "## Getting comments on a specific post\n",
    "\n",
    "This code scrapes over the comments of a specified post. It looks only at the lead comments (none of the replies to comments). It only goes over the first 112 comments for some reason."
   ]
  },
  {
   "cell_type": "code",
   "execution_count": 3,
   "metadata": {},
   "outputs": [],
   "source": [
    "def scrape_post(url, all_comments=False):\n",
    "    # Creating a submission object\n",
    "    submission = reddit_read_only.submission(url=url)\n",
    "    \n",
    "    # should get all top level comments on the post\n",
    "    if all_comments==True:\n",
    "        submission.comments.replace_more(limit=None)\n",
    "\n",
    "    post_authors = []\n",
    "    post_comments = []\n",
    "\n",
    "    for comment in submission.comments:\n",
    "        if type(comment) == MoreComments:\n",
    "            continue\n",
    "\n",
    "        post_authors.append(comment.author)\n",
    "        post_comments.append(comment.body)\n",
    "\n",
    "    post_dict = {'author': post_authors, 'comment': post_comments}\n",
    "    post_df = pd.DataFrame(post_dict)\n",
    "    \n",
    "    return post_df"
   ]
  },
  {
   "cell_type": "code",
   "execution_count": 5,
   "metadata": {},
   "outputs": [],
   "source": [
    "df = scrape_post(\"https://www.reddit.com/r/MaraudersGame/comments/ylxsq4/marauders_be_like/\")"
   ]
  },
  {
   "cell_type": "code",
   "execution_count": 6,
   "metadata": {},
   "outputs": [
    {
     "name": "stdout",
     "output_type": "stream",
     "text": [
      "\u001b[0;31mInit signature:\u001b[0m\n",
      "\u001b[0mpraw\u001b[0m\u001b[0;34m.\u001b[0m\u001b[0mmodels\u001b[0m\u001b[0;34m.\u001b[0m\u001b[0mreddit\u001b[0m\u001b[0;34m.\u001b[0m\u001b[0msubmission\u001b[0m\u001b[0;34m.\u001b[0m\u001b[0mSubmission\u001b[0m\u001b[0;34m(\u001b[0m\u001b[0;34m\u001b[0m\n",
      "\u001b[0;34m\u001b[0m    \u001b[0mreddit\u001b[0m\u001b[0;34m:\u001b[0m \u001b[0;34m'praw.Reddit'\u001b[0m\u001b[0;34m,\u001b[0m\u001b[0;34m\u001b[0m\n",
      "\u001b[0;34m\u001b[0m    \u001b[0mid\u001b[0m\u001b[0;34m:\u001b[0m \u001b[0mOptional\u001b[0m\u001b[0;34m[\u001b[0m\u001b[0mstr\u001b[0m\u001b[0;34m]\u001b[0m \u001b[0;34m=\u001b[0m \u001b[0;32mNone\u001b[0m\u001b[0;34m,\u001b[0m\u001b[0;34m\u001b[0m\n",
      "\u001b[0;34m\u001b[0m    \u001b[0murl\u001b[0m\u001b[0;34m:\u001b[0m \u001b[0mOptional\u001b[0m\u001b[0;34m[\u001b[0m\u001b[0mstr\u001b[0m\u001b[0;34m]\u001b[0m \u001b[0;34m=\u001b[0m \u001b[0;32mNone\u001b[0m\u001b[0;34m,\u001b[0m\u001b[0;34m\u001b[0m\n",
      "\u001b[0;34m\u001b[0m    \u001b[0m_data\u001b[0m\u001b[0;34m:\u001b[0m \u001b[0mOptional\u001b[0m\u001b[0;34m[\u001b[0m\u001b[0mDict\u001b[0m\u001b[0;34m[\u001b[0m\u001b[0mstr\u001b[0m\u001b[0;34m,\u001b[0m \u001b[0mAny\u001b[0m\u001b[0;34m]\u001b[0m\u001b[0;34m]\u001b[0m \u001b[0;34m=\u001b[0m \u001b[0;32mNone\u001b[0m\u001b[0;34m,\u001b[0m\u001b[0;34m\u001b[0m\n",
      "\u001b[0;34m\u001b[0m\u001b[0;34m)\u001b[0m\u001b[0;34m\u001b[0m\u001b[0;34m\u001b[0m\u001b[0m\n",
      "\u001b[0;31mDocstring:\u001b[0m     \n",
      "A class for submissions to Reddit.\n",
      "\n",
      ".. include:: ../../typical_attributes.rst\n",
      "\n",
      "========================== =========================================================\n",
      "Attribute                  Description\n",
      "========================== =========================================================\n",
      "``author``                 Provides an instance of :class:`.Redditor`.\n",
      "``author_flair_text``      The text content of the author's flair, or ``None`` if\n",
      "                           not flaired.\n",
      "``clicked``                Whether or not the submission has been clicked by the\n",
      "                           client.\n",
      "``comments``               Provides an instance of :class:`.CommentForest`.\n",
      "``created_utc``            Time the submission was created, represented in `Unix\n",
      "                           Time`_.\n",
      "``distinguished``          Whether or not the submission is distinguished.\n",
      "``edited``                 Whether or not the submission has been edited.\n",
      "``id``                     ID of the submission.\n",
      "``is_original_content``    Whether or not the submission has been set as original\n",
      "                           content.\n",
      "``is_self``                Whether or not the submission is a selfpost (text-only).\n",
      "``link_flair_template_id`` The link flair's ID.\n",
      "``link_flair_text``        The link flair's text content, or ``None`` if not\n",
      "                           flaired.\n",
      "``locked``                 Whether or not the submission has been locked.\n",
      "``name``                   Fullname of the submission.\n",
      "``num_comments``           The number of comments on the submission.\n",
      "``over_18``                Whether or not the submission has been marked as NSFW.\n",
      "``permalink``              A permalink for the submission.\n",
      "``poll_data``              A :class:`.PollData` object representing the data of this\n",
      "                           submission, if it is a poll submission.\n",
      "``saved``                  Whether or not the submission is saved.\n",
      "``score``                  The number of upvotes for the submission.\n",
      "``selftext``               The submissions' selftext - an empty string if a link\n",
      "                           post.\n",
      "``spoiler``                Whether or not the submission has been marked as a\n",
      "                           spoiler.\n",
      "``stickied``               Whether or not the submission is stickied.\n",
      "``subreddit``              Provides an instance of :class:`.Subreddit`.\n",
      "``title``                  The title of the submission.\n",
      "``upvote_ratio``           The percentage of upvotes from all votes on the\n",
      "                           submission.\n",
      "``url``                    The URL the submission links to, or the permalink if a\n",
      "                           selfpost.\n",
      "========================== =========================================================\n",
      "\n",
      ".. _unix time: https://en.wikipedia.org/wiki/Unix_time\n",
      "\u001b[0;31mInit docstring:\u001b[0m\n",
      "Initialize a :class:`.Submission` instance.\n",
      "\n",
      ":param reddit: An instance of :class:`.Reddit`.\n",
      ":param id: A reddit base36 submission ID, e.g., ``\"2gmzqe\"``.\n",
      ":param url: A URL supported by :meth:`.id_from_url`.\n",
      "\n",
      "Either ``id`` or ``url`` can be provided, but not both.\n",
      "\u001b[0;31mFile:\u001b[0m           /Library/Frameworks/Python.framework/Versions/3.10/lib/python3.10/site-packages/praw/models/reddit/submission.py\n",
      "\u001b[0;31mType:\u001b[0m           type\n",
      "\u001b[0;31mSubclasses:\u001b[0m     \n"
     ]
    }
   ],
   "source": [
    "praw.models.reddit.submission.Submission?"
   ]
  },
  {
   "cell_type": "code",
   "execution_count": 7,
   "metadata": {},
   "outputs": [
    {
     "name": "stdout",
     "output_type": "stream",
     "text": [
      "(12, 2)\n"
     ]
    },
    {
     "data": {
      "text/html": [
       "<div>\n",
       "<style scoped>\n",
       "    .dataframe tbody tr th:only-of-type {\n",
       "        vertical-align: middle;\n",
       "    }\n",
       "\n",
       "    .dataframe tbody tr th {\n",
       "        vertical-align: top;\n",
       "    }\n",
       "\n",
       "    .dataframe thead th {\n",
       "        text-align: right;\n",
       "    }\n",
       "</style>\n",
       "<table border=\"1\" class=\"dataframe\">\n",
       "  <thead>\n",
       "    <tr style=\"text-align: right;\">\n",
       "      <th></th>\n",
       "      <th>author</th>\n",
       "      <th>comment</th>\n",
       "    </tr>\n",
       "  </thead>\n",
       "  <tbody>\n",
       "    <tr>\n",
       "      <th>0</th>\n",
       "      <td>Lozsta</td>\n",
       "      <td>Why is there not a toggle to turn that off. I ...</td>\n",
       "    </tr>\n",
       "    <tr>\n",
       "      <th>1</th>\n",
       "      <td>OpossumHades</td>\n",
       "      <td>...that destroyed ÖRTH</td>\n",
       "    </tr>\n",
       "    <tr>\n",
       "      <th>2</th>\n",
       "      <td>JEClockwork</td>\n",
       "      <td>For 70 years we have long lived in the shadows...</td>\n",
       "    </tr>\n",
       "    <tr>\n",
       "      <th>3</th>\n",
       "      <td>l3lNova</td>\n",
       "      <td>Ok but real talk that movie was wack</td>\n",
       "    </tr>\n",
       "    <tr>\n",
       "      <th>4</th>\n",
       "      <td>sw4mpy_1</td>\n",
       "      <td>Well no more!!!!</td>\n",
       "    </tr>\n",
       "  </tbody>\n",
       "</table>\n",
       "</div>"
      ],
      "text/plain": [
       "         author                                            comment\n",
       "0        Lozsta  Why is there not a toggle to turn that off. I ...\n",
       "1  OpossumHades                             ...that destroyed ÖRTH\n",
       "2   JEClockwork  For 70 years we have long lived in the shadows...\n",
       "3       l3lNova               Ok but real talk that movie was wack\n",
       "4      sw4mpy_1                                   Well no more!!!!"
      ]
     },
     "execution_count": 7,
     "metadata": {},
     "output_type": "execute_result"
    }
   ],
   "source": [
    "print(df.shape)\n",
    "df.head()"
   ]
  },
  {
   "cell_type": "code",
   "execution_count": 42,
   "metadata": {},
   "outputs": [],
   "source": [
    "df = scrape_post(\"https://www.reddit.com/r/politics/comments/1092xhl/the_american_public_no_longer_believes_the/\")"
   ]
  },
  {
   "cell_type": "code",
   "execution_count": 43,
   "metadata": {},
   "outputs": [
    {
     "name": "stdout",
     "output_type": "stream",
     "text": [
      "(109, 2)\n"
     ]
    },
    {
     "data": {
      "text/html": [
       "<div>\n",
       "<style scoped>\n",
       "    .dataframe tbody tr th:only-of-type {\n",
       "        vertical-align: middle;\n",
       "    }\n",
       "\n",
       "    .dataframe tbody tr th {\n",
       "        vertical-align: top;\n",
       "    }\n",
       "\n",
       "    .dataframe thead th {\n",
       "        text-align: right;\n",
       "    }\n",
       "</style>\n",
       "<table border=\"1\" class=\"dataframe\">\n",
       "  <thead>\n",
       "    <tr style=\"text-align: right;\">\n",
       "      <th></th>\n",
       "      <th>author</th>\n",
       "      <th>comment</th>\n",
       "    </tr>\n",
       "  </thead>\n",
       "  <tbody>\n",
       "    <tr>\n",
       "      <th>0</th>\n",
       "      <td>AutoModerator</td>\n",
       "      <td>\\nAs a reminder, this subreddit [is for civil ...</td>\n",
       "    </tr>\n",
       "    <tr>\n",
       "      <th>1</th>\n",
       "      <td>romacopia</td>\n",
       "      <td>Because there's no reason to think they're imp...</td>\n",
       "    </tr>\n",
       "    <tr>\n",
       "      <th>2</th>\n",
       "      <td>downwardspiralstairs</td>\n",
       "      <td>Oh, were we supposed to believe that it's impa...</td>\n",
       "    </tr>\n",
       "    <tr>\n",
       "      <th>3</th>\n",
       "      <td>2FalseSteps</td>\n",
       "      <td>They're not wrong.</td>\n",
       "    </tr>\n",
       "    <tr>\n",
       "      <th>4</th>\n",
       "      <td>SmackEh</td>\n",
       "      <td>When the wife of a Supreme Court Justice atten...</td>\n",
       "    </tr>\n",
       "  </tbody>\n",
       "</table>\n",
       "</div>"
      ],
      "text/plain": [
       "                 author                                            comment\n",
       "0         AutoModerator  \\nAs a reminder, this subreddit [is for civil ...\n",
       "1             romacopia  Because there's no reason to think they're imp...\n",
       "2  downwardspiralstairs  Oh, were we supposed to believe that it's impa...\n",
       "3           2FalseSteps                                 They're not wrong.\n",
       "4               SmackEh  When the wife of a Supreme Court Justice atten..."
      ]
     },
     "execution_count": 43,
     "metadata": {},
     "output_type": "execute_result"
    }
   ],
   "source": [
    "print(df.shape)\n",
    "df.head()"
   ]
  },
  {
   "cell_type": "markdown",
   "metadata": {},
   "source": [
    "## Getting top month posts on specified subreddit\n",
    "This code grabs the top 100 posts of the past month and saves various information on them into a dictionary"
   ]
  },
  {
   "cell_type": "code",
   "execution_count": 4,
   "metadata": {},
   "outputs": [],
   "source": [
    "def scrape_top_month(subreddit, ppsr=100):\n",
    "    # specifying subreddit\n",
    "    subreddit = reddit_read_only.subreddit(subreddit)\n",
    "\n",
    "    # Specifying to look at top posts of the current month\n",
    "    posts = subreddit.top(\"month\", limit=ppsr)\n",
    "\n",
    "    # Initializing dictionary to save post data to\n",
    "    posts_dict = {\"Title\": [], \"Post Text\": [],\n",
    "                  \"ID\": [], \"Score\": [],\n",
    "                  \"Total Comments\": [], \"Post URL\": [], 'Post_author' : []\n",
    "                  }\n",
    "\n",
    "    # Loop for saving post details\n",
    "    for post in posts:\n",
    "        # print(post)\n",
    "        # Title of each post\n",
    "        posts_dict[\"Title\"].append(post.title)\n",
    "\n",
    "        # Text inside a post\n",
    "        posts_dict[\"Post Text\"].append(post.selftext)\n",
    "\n",
    "        # Unique ID of each post\n",
    "        posts_dict[\"ID\"].append(post.id)\n",
    "\n",
    "        # The score of a post\n",
    "        posts_dict[\"Score\"].append(post.score)\n",
    "\n",
    "        # Total number of comments inside the post\n",
    "        posts_dict[\"Total Comments\"].append(post.num_comments)\n",
    "\n",
    "        # print(post.author)\n",
    "        # Author of the post\n",
    "        posts_dict['Post_author'].append(post.author)\n",
    "\n",
    "        # URL of each post\n",
    "        # print('https://www.reddit.com'+f'{post.permalink}')\n",
    "        posts_dict[\"Post URL\"].append('https://www.reddit.com'+f'{post.permalink}')\n",
    "        \n",
    "    return posts_dict"
   ]
  },
  {
   "cell_type": "code",
   "execution_count": 5,
   "metadata": {},
   "outputs": [
    {
     "name": "stderr",
     "output_type": "stream",
     "text": [
      "/var/folders/7n/1v9m4ykn66ddbcxt5nwgg9280000gn/T/ipykernel_46275/3581731796.py:6: DeprecationWarning: Positional arguments for 'BaseListingMixin.top' will no longer be supported in PRAW 8.\n",
      "Call this function with 'time_filter' as a keyword argument.\n",
      "  posts = subreddit.top(\"month\", limit=ppsr)\n"
     ]
    }
   ],
   "source": [
    "dict_ = scrape_top_month('politics')"
   ]
  },
  {
   "cell_type": "code",
   "execution_count": 26,
   "metadata": {},
   "outputs": [
    {
     "name": "stdout",
     "output_type": "stream",
     "text": [
      "Bernie Sanders says it's time for a four-day work week\n",
      "\n",
      "118jfd5\n",
      "94379\n",
      "4280\n",
      "https://www.reddit.com/r/politics/comments/118jfd5/bernie_sanders_says_its_time_for_a_fourday_work/\n",
      "100\n",
      "Picture-unrelated\n"
     ]
    }
   ],
   "source": [
    "# post samples\n",
    "print(dict_['Title'][0])\n",
    "print(dict_['Post Text'][0])\n",
    "print(dict_['ID'][0])\n",
    "print(dict_['Score'][0])\n",
    "print(dict_['Total Comments'][0])\n",
    "print(dict_['Post URL'][0])\n",
    "print(len(dict_['Title']))\n",
    "print(dict_['Post_author'][0])"
   ]
  },
  {
   "cell_type": "code",
   "execution_count": 27,
   "metadata": {},
   "outputs": [
    {
     "name": "stderr",
     "output_type": "stream",
     "text": [
      "/var/folders/7n/1v9m4ykn66ddbcxt5nwgg9280000gn/T/ipykernel_43944/3581731796.py:6: DeprecationWarning: Positional arguments for 'BaseListingMixin.top' will no longer be supported in PRAW 8.\n",
      "Call this function with 'time_filter' as a keyword argument.\n",
      "  posts = subreddit.top(\"month\", limit=ppsr)\n"
     ]
    }
   ],
   "source": [
    "dict_ = scrape_top_month('politics', ppsr=150)"
   ]
  },
  {
   "cell_type": "code",
   "execution_count": 28,
   "metadata": {},
   "outputs": [
    {
     "name": "stdout",
     "output_type": "stream",
     "text": [
      "Bernie Sanders says it's time for a four-day work week\n",
      "\n",
      "118jfd5\n",
      "94371\n",
      "4280\n",
      "https://www.reddit.com/r/politics/comments/118jfd5/bernie_sanders_says_its_time_for_a_fourday_work/\n",
      "150\n",
      "[Redditor(name='Picture-unrelated'), Redditor(name='hopopo'), Redditor(name='newnemo'), Redditor(name='Picture-unrelated'), Redditor(name='GDPisnotsustainable'), Redditor(name='mdj1359'), Redditor(name='theindependentonline'), Redditor(name='CapitalCourse'), Redditor(name='Ozymandias_a'), Redditor(name='Beckles28nz'), Redditor(name='Hot-Bint'), Redditor(name='Gari_305'), Redditor(name='CapitalCourse'), Redditor(name='slaysia'), Redditor(name='LuvKrahft'), Redditor(name='cool_name52'), Redditor(name='AreYouPurple'), Redditor(name='Picture-unrelated'), Redditor(name='LudovicoSpecs'), Redditor(name='semaphore-1842'), Redditor(name='HauntingJackfruit'), Redditor(name='jonfla'), Redditor(name='bildo72'), Redditor(name='joyfullypresent'), Redditor(name='boregon'), Redditor(name='slaysia'), Redditor(name='LieutJimDangle'), Redditor(name='FFFFFM'), Redditor(name='newnemo'), Redditor(name='Gari_305'), Redditor(name='likelazarus'), Redditor(name='CBSnews'), Redditor(name='Gari_305'), Redditor(name='Sharp_Literature_739'), Redditor(name='myTchondria'), Redditor(name='pea_nix'), Redditor(name='bin10pac'), Redditor(name='theindependentonline'), Redditor(name='koavf'), Redditor(name='newnemo'), Redditor(name='CordAlex1996'), Redditor(name='BelleAriel'), Redditor(name='sailorbrendan'), Redditor(name='ScoMoTrudeauApricot'), Redditor(name='Sharp_Literature_739'), Redditor(name='FFFFFM'), Redditor(name='JackFourj4'), Redditor(name='ladyem8'), Redditor(name='cwhmoney555'), Redditor(name='chagall1968'), Redditor(name='Beckles28nz'), Redditor(name='BelleAriel'), Redditor(name='southpawFA'), Redditor(name='semaphore-1842'), Redditor(name='everlovingkindness'), Redditor(name='Bluerecyclecan'), Redditor(name='Picture-unrelated'), Redditor(name='WhoIsJolyonWest'), Redditor(name='Teanaway99'), Redditor(name='thinkB4WeSpeak'), Redditor(name='dude_x'), Redditor(name='Beckles28nz'), Redditor(name='modooff'), Redditor(name='Ok-Flamingo-1499'), Redditor(name='KC_8580'), Redditor(name='WhoIsJolyonWest'), Redditor(name='bildo72'), Redditor(name='J_ablo'), Redditor(name='CrackHeadRodeo'), Redditor(name='Pemulis'), Redditor(name='AceCombat9519'), Redditor(name='Danielnrg'), Redditor(name='Fr1sk3r'), Redditor(name='UWCG'), Redditor(name='e-r_bridge'), Redditor(name='e-r_bridge'), Redditor(name='dude_x'), Redditor(name='A_Queff_In_Time'), Redditor(name='Scarlettail'), Redditor(name='Darzanak'), Redditor(name='washingtonpost'), Redditor(name='southpawFA'), Redditor(name='e-r_bridge'), Redditor(name='Picture-unrelated'), Redditor(name='Beckles28nz'), Redditor(name='CapitalCourse'), Redditor(name='dread_beard'), Redditor(name='TalcMine'), Redditor(name='dude_x'), Redditor(name='HauntingJackfruit'), Redditor(name='Blue_Gamer18'), Redditor(name='ReallyJustTheFacts'), Redditor(name='thenewrepublic'), Redditor(name='Orthodoxdevilworship'), Redditor(name='ChimeraMistake'), Redditor(name='vpuetf'), Redditor(name='MortWellian'), Redditor(name='Peasant_Stockholder'), Redditor(name='hammadurb'), Redditor(name='newnemo'), Redditor(name='cogentat'), Redditor(name='surfer_joe87'), Redditor(name='thenewrepublic'), Redditor(name='semaphore-1842'), Redditor(name='VICENews'), Redditor(name='AndyJack86'), Redditor(name='ReallyJustTheFacts'), Redditor(name='koavf'), Redditor(name='ReallyJustTheFacts'), Redditor(name='newnemo'), Redditor(name='ConcealedPsychosis'), Redditor(name='flbnah'), Redditor(name='dude_x'), Redditor(name='Beckles28nz'), Redditor(name='Politics_Knower'), Redditor(name='nicknameSerialNumber'), Redditor(name='UWCG'), Redditor(name='soupjaw'), Redditor(name='flimspringfield'), Redditor(name='LimitedSwimmer'), Redditor(name='walkinman19'), Redditor(name='throwaway12131214121'), Redditor(name='PatientBuilder499'), Redditor(name='CapitalCourse'), Redditor(name='newnemo'), Redditor(name='lestermagneto'), Redditor(name='Beckles28nz'), Redditor(name='Thai-Reidj'), Redditor(name='ladyem8'), Redditor(name='thenewrepublic'), Redditor(name='semaphore-1842'), Redditor(name='UGMadness'), Redditor(name='cameronj'), Redditor(name='theindependentonline'), Redditor(name='UWCG'), Redditor(name='Beckles28nz'), Redditor(name='OkRoll3915'), Redditor(name='harsh2k5'), Redditor(name='cireh88'), Redditor(name='HandSack135'), Redditor(name='AndyJack86'), Redditor(name='Beckles28nz'), Redditor(name='Thetimmybaby'), Redditor(name='Darzanak'), Redditor(name='elguiridelocho'), Redditor(name='Picture-unrelated'), Redditor(name='theindependentonline'), Redditor(name='nutritionvegan'), Redditor(name='Violetstay'), Redditor(name='CBSnews')]\n"
     ]
    }
   ],
   "source": [
    "# post samples\n",
    "print(dict_['Title'][0])\n",
    "print(dict_['Post Text'][0])\n",
    "print(dict_['ID'][0])\n",
    "print(dict_['Score'][0])\n",
    "print(dict_['Total Comments'][0])\n",
    "print(dict_['Post URL'][0])\n",
    "print(len(dict_['Title']))\n",
    "print(dict_['Post_author'])"
   ]
  },
  {
   "cell_type": "markdown",
   "metadata": {},
   "source": [
    "## Getting comments on top monthly posts on multiple subreddits"
   ]
  },
  {
   "cell_type": "code",
   "execution_count": 12,
   "metadata": {},
   "outputs": [],
   "source": [
    "def scrape_multiple_save(subreddits, ppsr=100, all_comments=False):\n",
    "    '''scrapes and saves subreddit comments to csv files\n",
    "       Naming convention is: SUBREDDIT_POSTID.csv / SUBREDDIT_POSTID_INFO.txt'''\n",
    "    \n",
    "    \n",
    "    if all_comments==False:\n",
    "        print(f'Scraping {ppsr} posts per subreddit and ~100 comments per post')\n",
    "    else:\n",
    "        print(f'Scraping {ppsr} posts per subreddit and all comments per post')\n",
    "    \n",
    "    # looping through subreddits\n",
    "    for subreddit in subreddits:\n",
    "        print(f'Scraping r/{subreddit}...')\n",
    "        \n",
    "        # initialize dictionary for saving all comments and post info\n",
    "        sub_dict = {'post_title': [],\n",
    "                    'post_text': [],\n",
    "                    'post_id': [],\n",
    "                    'post_score': [],\n",
    "                    'post_total_comments': [],\n",
    "                    'post_url': [],\n",
    "                    'comment_author': [],\n",
    "                    'comment_text': [], \n",
    "                    'post_author' : []}\n",
    "        \n",
    "        posts_dict = scrape_top_month(subreddit, ppsr) # getting top of the month post info\n",
    "        \n",
    "        # looping through posts\n",
    "        for idx, url in tqdm(enumerate(posts_dict['Post URL']),):\n",
    "            \n",
    "            # df for comments on the post\n",
    "            comment_df = scrape_post(url, all_comments=all_comments)\n",
    "            \n",
    "            # looping through comments on post and appending all comment info to sub_dict\n",
    "            for row_idx, row in comment_df.iterrows():\n",
    "                sub_dict['post_title'].append(posts_dict['Title'][idx])\n",
    "                sub_dict['post_text'].append(posts_dict['Post Text'][idx])\n",
    "                sub_dict['post_id'].append(posts_dict['ID'][idx])\n",
    "                sub_dict['post_score'].append(posts_dict['Score'][idx])\n",
    "                sub_dict['post_total_comments'].append(posts_dict['Total Comments'][idx])\n",
    "                sub_dict['post_url'].append(posts_dict['Post URL'][idx])\n",
    "                sub_dict['comment_author'].append(row['author'])\n",
    "                sub_dict['comment_text'].append(row['comment'])\n",
    "                sub_dict['post_author'].append(posts_dict['Post_author'][idx])\n",
    "            \n",
    "        # changing sub_dict to pandas dataframe\n",
    "        global sub_df\n",
    "        sub_df = pd.DataFrame.from_dict(sub_dict)\n",
    "\n",
    "        # saving to csv\n",
    "        #sub_df.to_csv(f'../data/28feb/scrapes/{subreddit}.csv', index=False)\n",
    "        \n",
    "    print('Done!')\n",
    "    return None"
   ]
  },
  {
   "cell_type": "code",
   "execution_count": 13,
   "metadata": {},
   "outputs": [
    {
     "name": "stdout",
     "output_type": "stream",
     "text": [
      "Scraping 100 posts per subreddit and ~100 comments per post\n",
      "Scraping r/politics...\n"
     ]
    },
    {
     "name": "stderr",
     "output_type": "stream",
     "text": [
      "/var/folders/7n/1v9m4ykn66ddbcxt5nwgg9280000gn/T/ipykernel_46275/3581731796.py:6: DeprecationWarning: Positional arguments for 'BaseListingMixin.top' will no longer be supported in PRAW 8.\n",
      "Call this function with 'time_filter' as a keyword argument.\n",
      "  posts = subreddit.top(\"month\", limit=ppsr)\n",
      "100it [10:04,  6.04s/it]"
     ]
    },
    {
     "name": "stdout",
     "output_type": "stream",
     "text": [
      "Done!\n"
     ]
    },
    {
     "name": "stderr",
     "output_type": "stream",
     "text": [
      "\n"
     ]
    }
   ],
   "source": [
    "scrape_multiple_save(['politics'])"
   ]
  },
  {
   "cell_type": "code",
   "execution_count": 14,
   "metadata": {},
   "outputs": [
    {
     "data": {
      "text/html": [
       "<div>\n",
       "<style scoped>\n",
       "    .dataframe tbody tr th:only-of-type {\n",
       "        vertical-align: middle;\n",
       "    }\n",
       "\n",
       "    .dataframe tbody tr th {\n",
       "        vertical-align: top;\n",
       "    }\n",
       "\n",
       "    .dataframe thead th {\n",
       "        text-align: right;\n",
       "    }\n",
       "</style>\n",
       "<table border=\"1\" class=\"dataframe\">\n",
       "  <thead>\n",
       "    <tr style=\"text-align: right;\">\n",
       "      <th></th>\n",
       "      <th>post_title</th>\n",
       "      <th>post_text</th>\n",
       "      <th>post_id</th>\n",
       "      <th>post_score</th>\n",
       "      <th>post_total_comments</th>\n",
       "      <th>post_url</th>\n",
       "      <th>comment_author</th>\n",
       "      <th>comment_text</th>\n",
       "      <th>post_author</th>\n",
       "    </tr>\n",
       "  </thead>\n",
       "  <tbody>\n",
       "    <tr>\n",
       "      <th>0</th>\n",
       "      <td>Bernie Sanders says it's time for a four-day w...</td>\n",
       "      <td></td>\n",
       "      <td>118jfd5</td>\n",
       "      <td>94375</td>\n",
       "      <td>4280</td>\n",
       "      <td>https://www.reddit.com/r/politics/comments/118...</td>\n",
       "      <td>AutoModerator</td>\n",
       "      <td>\\nAs a reminder, this subreddit [is for civil ...</td>\n",
       "      <td>Picture-unrelated</td>\n",
       "    </tr>\n",
       "    <tr>\n",
       "      <th>1</th>\n",
       "      <td>Bernie Sanders says it's time for a four-day w...</td>\n",
       "      <td></td>\n",
       "      <td>118jfd5</td>\n",
       "      <td>94375</td>\n",
       "      <td>4280</td>\n",
       "      <td>https://www.reddit.com/r/politics/comments/118...</td>\n",
       "      <td>AgentM44</td>\n",
       "      <td>Life-changing. Switched to 4-day week about 4 ...</td>\n",
       "      <td>Picture-unrelated</td>\n",
       "    </tr>\n",
       "    <tr>\n",
       "      <th>2</th>\n",
       "      <td>Bernie Sanders says it's time for a four-day w...</td>\n",
       "      <td></td>\n",
       "      <td>118jfd5</td>\n",
       "      <td>94375</td>\n",
       "      <td>4280</td>\n",
       "      <td>https://www.reddit.com/r/politics/comments/118...</td>\n",
       "      <td>Picture-unrelated</td>\n",
       "      <td>&gt;&gt; This isn't the first time a four-day work w...</td>\n",
       "      <td>Picture-unrelated</td>\n",
       "    </tr>\n",
       "    <tr>\n",
       "      <th>3</th>\n",
       "      <td>Bernie Sanders says it's time for a four-day w...</td>\n",
       "      <td></td>\n",
       "      <td>118jfd5</td>\n",
       "      <td>94375</td>\n",
       "      <td>4280</td>\n",
       "      <td>https://www.reddit.com/r/politics/comments/118...</td>\n",
       "      <td>ContentSeal</td>\n",
       "      <td>Ill leave my job for any that has 4 day work w...</td>\n",
       "      <td>Picture-unrelated</td>\n",
       "    </tr>\n",
       "    <tr>\n",
       "      <th>4</th>\n",
       "      <td>Bernie Sanders says it's time for a four-day w...</td>\n",
       "      <td></td>\n",
       "      <td>118jfd5</td>\n",
       "      <td>94375</td>\n",
       "      <td>4280</td>\n",
       "      <td>https://www.reddit.com/r/politics/comments/118...</td>\n",
       "      <td>ViennettaLurker</td>\n",
       "      <td>I've been seeing and hearing so much about 4 d...</td>\n",
       "      <td>Picture-unrelated</td>\n",
       "    </tr>\n",
       "    <tr>\n",
       "      <th>...</th>\n",
       "      <td>...</td>\n",
       "      <td>...</td>\n",
       "      <td>...</td>\n",
       "      <td>...</td>\n",
       "      <td>...</td>\n",
       "      <td>...</td>\n",
       "      <td>...</td>\n",
       "      <td>...</td>\n",
       "      <td>...</td>\n",
       "    </tr>\n",
       "    <tr>\n",
       "      <th>13545</th>\n",
       "      <td>Democrat who nearly unseated Boebert launches ...</td>\n",
       "      <td></td>\n",
       "      <td>1128xx4</td>\n",
       "      <td>13054</td>\n",
       "      <td>316</td>\n",
       "      <td>https://www.reddit.com/r/politics/comments/112...</td>\n",
       "      <td>spunkypudding</td>\n",
       "      <td>\"name is Adam Frisch not Nancy Pelosi\"</td>\n",
       "      <td>newnemo</td>\n",
       "    </tr>\n",
       "    <tr>\n",
       "      <th>13546</th>\n",
       "      <td>Democrat who nearly unseated Boebert launches ...</td>\n",
       "      <td></td>\n",
       "      <td>1128xx4</td>\n",
       "      <td>13054</td>\n",
       "      <td>316</td>\n",
       "      <td>https://www.reddit.com/r/politics/comments/112...</td>\n",
       "      <td>UConnUser92</td>\n",
       "      <td>10 bucks to Adam Frisch coming in from NY!</td>\n",
       "      <td>newnemo</td>\n",
       "    </tr>\n",
       "    <tr>\n",
       "      <th>13547</th>\n",
       "      <td>Democrat who nearly unseated Boebert launches ...</td>\n",
       "      <td></td>\n",
       "      <td>1128xx4</td>\n",
       "      <td>13054</td>\n",
       "      <td>316</td>\n",
       "      <td>https://www.reddit.com/r/politics/comments/112...</td>\n",
       "      <td>BickNickerson</td>\n",
       "      <td>Time to send Frisch another campaign donation.</td>\n",
       "      <td>newnemo</td>\n",
       "    </tr>\n",
       "    <tr>\n",
       "      <th>13548</th>\n",
       "      <td>Democrat who nearly unseated Boebert launches ...</td>\n",
       "      <td></td>\n",
       "      <td>1128xx4</td>\n",
       "      <td>13054</td>\n",
       "      <td>316</td>\n",
       "      <td>https://www.reddit.com/r/politics/comments/112...</td>\n",
       "      <td>Ivorcomment</td>\n",
       "      <td>All Frisch needs is to find four hundred and s...</td>\n",
       "      <td>newnemo</td>\n",
       "    </tr>\n",
       "    <tr>\n",
       "      <th>13549</th>\n",
       "      <td>Democrat who nearly unseated Boebert launches ...</td>\n",
       "      <td></td>\n",
       "      <td>1128xx4</td>\n",
       "      <td>13054</td>\n",
       "      <td>316</td>\n",
       "      <td>https://www.reddit.com/r/politics/comments/112...</td>\n",
       "      <td>Hunterrose242</td>\n",
       "      <td>There needs to be a strong Libertarian candida...</td>\n",
       "      <td>newnemo</td>\n",
       "    </tr>\n",
       "  </tbody>\n",
       "</table>\n",
       "<p>13550 rows × 9 columns</p>\n",
       "</div>"
      ],
      "text/plain": [
       "                                              post_title post_text  post_id  \\\n",
       "0      Bernie Sanders says it's time for a four-day w...            118jfd5   \n",
       "1      Bernie Sanders says it's time for a four-day w...            118jfd5   \n",
       "2      Bernie Sanders says it's time for a four-day w...            118jfd5   \n",
       "3      Bernie Sanders says it's time for a four-day w...            118jfd5   \n",
       "4      Bernie Sanders says it's time for a four-day w...            118jfd5   \n",
       "...                                                  ...       ...      ...   \n",
       "13545  Democrat who nearly unseated Boebert launches ...            1128xx4   \n",
       "13546  Democrat who nearly unseated Boebert launches ...            1128xx4   \n",
       "13547  Democrat who nearly unseated Boebert launches ...            1128xx4   \n",
       "13548  Democrat who nearly unseated Boebert launches ...            1128xx4   \n",
       "13549  Democrat who nearly unseated Boebert launches ...            1128xx4   \n",
       "\n",
       "       post_score  post_total_comments  \\\n",
       "0           94375                 4280   \n",
       "1           94375                 4280   \n",
       "2           94375                 4280   \n",
       "3           94375                 4280   \n",
       "4           94375                 4280   \n",
       "...           ...                  ...   \n",
       "13545       13054                  316   \n",
       "13546       13054                  316   \n",
       "13547       13054                  316   \n",
       "13548       13054                  316   \n",
       "13549       13054                  316   \n",
       "\n",
       "                                                post_url     comment_author  \\\n",
       "0      https://www.reddit.com/r/politics/comments/118...      AutoModerator   \n",
       "1      https://www.reddit.com/r/politics/comments/118...           AgentM44   \n",
       "2      https://www.reddit.com/r/politics/comments/118...  Picture-unrelated   \n",
       "3      https://www.reddit.com/r/politics/comments/118...        ContentSeal   \n",
       "4      https://www.reddit.com/r/politics/comments/118...    ViennettaLurker   \n",
       "...                                                  ...                ...   \n",
       "13545  https://www.reddit.com/r/politics/comments/112...      spunkypudding   \n",
       "13546  https://www.reddit.com/r/politics/comments/112...        UConnUser92   \n",
       "13547  https://www.reddit.com/r/politics/comments/112...      BickNickerson   \n",
       "13548  https://www.reddit.com/r/politics/comments/112...        Ivorcomment   \n",
       "13549  https://www.reddit.com/r/politics/comments/112...      Hunterrose242   \n",
       "\n",
       "                                            comment_text        post_author  \n",
       "0      \\nAs a reminder, this subreddit [is for civil ...  Picture-unrelated  \n",
       "1      Life-changing. Switched to 4-day week about 4 ...  Picture-unrelated  \n",
       "2      >> This isn't the first time a four-day work w...  Picture-unrelated  \n",
       "3      Ill leave my job for any that has 4 day work w...  Picture-unrelated  \n",
       "4      I've been seeing and hearing so much about 4 d...  Picture-unrelated  \n",
       "...                                                  ...                ...  \n",
       "13545             \"name is Adam Frisch not Nancy Pelosi\"            newnemo  \n",
       "13546         10 bucks to Adam Frisch coming in from NY!            newnemo  \n",
       "13547     Time to send Frisch another campaign donation.            newnemo  \n",
       "13548  All Frisch needs is to find four hundred and s...            newnemo  \n",
       "13549  There needs to be a strong Libertarian candida...            newnemo  \n",
       "\n",
       "[13550 rows x 9 columns]"
      ]
     },
     "execution_count": 14,
     "metadata": {},
     "output_type": "execute_result"
    }
   ],
   "source": [
    "sub_df"
   ]
  },
  {
   "cell_type": "code",
   "execution_count": 15,
   "metadata": {},
   "outputs": [],
   "source": [
    "sub_df.to_csv(f'../data/28feb/scrapes/politics.csv', index=False)"
   ]
  },
  {
   "cell_type": "code",
   "execution_count": null,
   "metadata": {},
   "outputs": [],
   "source": []
  }
 ],
 "metadata": {
  "kernelspec": {
   "display_name": "Python 3",
   "language": "python",
   "name": "python3"
  },
  "language_info": {
   "codemirror_mode": {
    "name": "ipython",
    "version": 3
   },
   "file_extension": ".py",
   "mimetype": "text/x-python",
   "name": "python",
   "nbconvert_exporter": "python",
   "pygments_lexer": "ipython3",
   "version": "3.10.2"
  },
  "vscode": {
   "interpreter": {
    "hash": "aee8b7b246df8f9039afb4144a1f6fd8d2ca17a180786b69acc140d282b71a49"
   }
  }
 },
 "nbformat": 4,
 "nbformat_minor": 2
}
