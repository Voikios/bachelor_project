{
 "cells": [
  {
   "cell_type": "code",
   "execution_count": 1,
   "metadata": {},
   "outputs": [],
   "source": [
    "# imports for using the notebook\n",
    "\n",
    "import pandas as pd\n",
    "import sys\n",
    "sys.path.append('../')\n",
    "from embedding_functions_hugo.embedding_functions import *\n",
    "from sklearn.preprocessing import StandardScaler\n",
    "import numpy as np\n",
    "from numpy import genfromtxt\n",
    "import nltk\n",
    "import matplotlib.pyplot as plt\n",
    "from sklearn.cluster import KMeans\n",
    "from sklearn.decomposition import PCA\n",
    "import seaborn as sns"
   ]
  },
  {
   "cell_type": "code",
   "execution_count": 2,
   "metadata": {},
   "outputs": [],
   "source": [
    "# Specifying datasets from different reddit pages\n",
    "\n",
    "# df_gaming = pd.read_csv('../data/scrapes/gaming.csv')\n",
    "# df_satis = pd.read_csv('../data/scrapes/SatisfactoryGame.csv')\n",
    "# df_marauders = pd.read_csv('../data/scrapes/MaraudersGame.csv')\n",
    "#df_tarkov = pd.read_csv('../data/scrapes/EscapefromTarkov.csv')\n",
    "df_politics = pd.read_csv('../data/scrapes/politics.csv')\n",
    "\n",
    "\n",
    "# Datasets post cleaning the text\n",
    "# df_politics['cleaned_text'] = prep_pipeline(df_politics, 'comment_text')\n",
    "# df_politics['short'] = shorten_sens(df_politics['cleaned_text'], 50)\n",
    "\n",
    "# Function to speed up the process: \n",
    "\n",
    "def shorten_and_clean_dataset (comment_csv, comment_column : str, desired_comment_length : int):\n",
    "    dataframe = pd.read_csv(comment_csv)\n",
    "    dataframe['cleaned_text'] = prep_pipeline(dataframe, comment_column)\n",
    "    dataframe['short'] = shorten_sens(dataframe['cleaned_text'], desired_comment_length)\n",
    "    return dataframe"
   ]
  },
  {
   "cell_type": "code",
   "execution_count": 3,
   "metadata": {},
   "outputs": [],
   "source": [
    "# sen_leng = []\n",
    "# for i in df_politics['short']:\n",
    "#     sen_leng.append(len(i.split()))\n",
    "\n",
    "\n",
    "# print(np.percentile(sen_leng, 25))\n",
    "# print(np.percentile(sen_leng, 50))\n",
    "# print(np.percentile(sen_leng, 75))\n",
    "# print(np.percentile(sen_leng, 99))\n",
    "# print(np.mean(sen_leng))\n",
    "# print(np.median(sen_leng))"
   ]
  },
  {
   "cell_type": "code",
   "execution_count": 4,
   "metadata": {},
   "outputs": [],
   "source": [
    "# authors = df_politics.values[:,-2]"
   ]
  },
  {
   "cell_type": "code",
   "execution_count": 6,
   "metadata": {},
   "outputs": [
    {
     "name": "stdout",
     "output_type": "stream",
     "text": [
      "lowering done! \n",
      "Contractions removed!\n",
      "urls away!\n",
      "htmls too!\n",
      "asciis outta here!\n",
      "special  characs done\n",
      "puncts done\n",
      "long one...\n"
     ]
    },
    {
     "ename": "ValueError",
     "evalue": "Length of values (7771) does not match length of index (14133)",
     "output_type": "error",
     "traceback": [
      "\u001b[0;31m---------------------------------------------------------------------------\u001b[0m",
      "\u001b[0;31mValueError\u001b[0m                                Traceback (most recent call last)",
      "\u001b[1;32m/Users/christianrasmussen/Desktop/bsc3/bachelor_project/notebooks/more_testing.ipynb Cell 5\u001b[0m in \u001b[0;36m<cell line: 13>\u001b[0;34m()\u001b[0m\n\u001b[1;32m      <a href='vscode-notebook-cell:/Users/christianrasmussen/Desktop/bsc3/bachelor_project/notebooks/more_testing.ipynb#W4sZmlsZQ%3D%3D?line=7'>8</a>\u001b[0m     \u001b[39mreturn\u001b[39;00m np\u001b[39m.\u001b[39msave(destination_path, embeddings)\n\u001b[1;32m      <a href='vscode-notebook-cell:/Users/christianrasmussen/Desktop/bsc3/bachelor_project/notebooks/more_testing.ipynb#W4sZmlsZQ%3D%3D?line=8'>9</a>\u001b[0m    \u001b[39m# return savetxt(destination_path, embeddings, delimiter = ',')\u001b[39;00m\n\u001b[1;32m     <a href='vscode-notebook-cell:/Users/christianrasmussen/Desktop/bsc3/bachelor_project/notebooks/more_testing.ipynb#W4sZmlsZQ%3D%3D?line=9'>10</a>\u001b[0m \n\u001b[1;32m     <a href='vscode-notebook-cell:/Users/christianrasmussen/Desktop/bsc3/bachelor_project/notebooks/more_testing.ipynb#W4sZmlsZQ%3D%3D?line=10'>11</a>\u001b[0m \u001b[39m### UNCOMMENT BELOW TO DO EMBEDDINGS AND SAVE THEM\u001b[39;00m\n\u001b[0;32m---> <a href='vscode-notebook-cell:/Users/christianrasmussen/Desktop/bsc3/bachelor_project/notebooks/more_testing.ipynb#W4sZmlsZQ%3D%3D?line=12'>13</a>\u001b[0m save_embeddings_as_npy(\u001b[39m'\u001b[39;49m\u001b[39m../data/embeddings/politics_embeddings.npy\u001b[39;49m\u001b[39m'\u001b[39;49m, \u001b[39m'\u001b[39;49m\u001b[39m../data/scrapes/politics.csv\u001b[39;49m\u001b[39m'\u001b[39;49m, \u001b[39m'\u001b[39;49m\u001b[39mcomment_text\u001b[39;49m\u001b[39m'\u001b[39;49m, \u001b[39m50\u001b[39;49m)\n\u001b[1;32m     <a href='vscode-notebook-cell:/Users/christianrasmussen/Desktop/bsc3/bachelor_project/notebooks/more_testing.ipynb#W4sZmlsZQ%3D%3D?line=13'>14</a>\u001b[0m save_embeddings_as_npy(\u001b[39m'\u001b[39m\u001b[39m../data/embeddings/gaming_embeddings.npy\u001b[39m\u001b[39m'\u001b[39m, \u001b[39m'\u001b[39m\u001b[39m../data/scrapes/gaming.csv\u001b[39m\u001b[39m'\u001b[39m, \u001b[39m'\u001b[39m\u001b[39mcomment_text\u001b[39m\u001b[39m'\u001b[39m, \u001b[39m50\u001b[39m)\n\u001b[1;32m     <a href='vscode-notebook-cell:/Users/christianrasmussen/Desktop/bsc3/bachelor_project/notebooks/more_testing.ipynb#W4sZmlsZQ%3D%3D?line=14'>15</a>\u001b[0m save_embeddings_as_npy(\u001b[39m'\u001b[39m\u001b[39m../data/embeddings/marauders_embeddings.npy\u001b[39m\u001b[39m'\u001b[39m, \u001b[39m'\u001b[39m\u001b[39m../data/scrapes/MaraudersGame.csv\u001b[39m\u001b[39m'\u001b[39m, \u001b[39m'\u001b[39m\u001b[39mcomment_text\u001b[39m\u001b[39m'\u001b[39m, \u001b[39m50\u001b[39m)\n",
      "\u001b[1;32m/Users/christianrasmussen/Desktop/bsc3/bachelor_project/notebooks/more_testing.ipynb Cell 5\u001b[0m in \u001b[0;36msave_embeddings_as_npy\u001b[0;34m(destination_path, comment_csv, comment_column, desired_comment_length)\u001b[0m\n\u001b[1;32m      <a href='vscode-notebook-cell:/Users/christianrasmussen/Desktop/bsc3/bachelor_project/notebooks/more_testing.ipynb#W4sZmlsZQ%3D%3D?line=1'>2</a>\u001b[0m \u001b[39mfrom\u001b[39;00m \u001b[39mnumpy\u001b[39;00m \u001b[39mimport\u001b[39;00m savetxt\n\u001b[1;32m      <a href='vscode-notebook-cell:/Users/christianrasmussen/Desktop/bsc3/bachelor_project/notebooks/more_testing.ipynb#W4sZmlsZQ%3D%3D?line=2'>3</a>\u001b[0m \u001b[39m'''\u001b[39;00m\n\u001b[1;32m      <a href='vscode-notebook-cell:/Users/christianrasmussen/Desktop/bsc3/bachelor_project/notebooks/more_testing.ipynb#W4sZmlsZQ%3D%3D?line=3'>4</a>\u001b[0m \u001b[39mNlp pipeline function which takes a pandas dataframe and relevant columns, performs preprocessing steps, uses sentence_transformer embeddings and saves the embeddings as a csv file.\u001b[39;00m\n\u001b[1;32m      <a href='vscode-notebook-cell:/Users/christianrasmussen/Desktop/bsc3/bachelor_project/notebooks/more_testing.ipynb#W4sZmlsZQ%3D%3D?line=4'>5</a>\u001b[0m \u001b[39m'''\u001b[39;00m\n\u001b[0;32m----> <a href='vscode-notebook-cell:/Users/christianrasmussen/Desktop/bsc3/bachelor_project/notebooks/more_testing.ipynb#W4sZmlsZQ%3D%3D?line=5'>6</a>\u001b[0m sentences \u001b[39m=\u001b[39m shorten_and_clean_dataset(comment_csv, comment_column, desired_comment_length)\n\u001b[1;32m      <a href='vscode-notebook-cell:/Users/christianrasmussen/Desktop/bsc3/bachelor_project/notebooks/more_testing.ipynb#W4sZmlsZQ%3D%3D?line=6'>7</a>\u001b[0m embeddings \u001b[39m=\u001b[39m embed_comments(sentences[\u001b[39m'\u001b[39m\u001b[39mshort\u001b[39m\u001b[39m'\u001b[39m])\n\u001b[1;32m      <a href='vscode-notebook-cell:/Users/christianrasmussen/Desktop/bsc3/bachelor_project/notebooks/more_testing.ipynb#W4sZmlsZQ%3D%3D?line=7'>8</a>\u001b[0m \u001b[39mreturn\u001b[39;00m np\u001b[39m.\u001b[39msave(destination_path, embeddings)\n",
      "\u001b[1;32m/Users/christianrasmussen/Desktop/bsc3/bachelor_project/notebooks/more_testing.ipynb Cell 5\u001b[0m in \u001b[0;36mshorten_and_clean_dataset\u001b[0;34m(comment_csv, comment_column, desired_comment_length)\u001b[0m\n\u001b[1;32m     <a href='vscode-notebook-cell:/Users/christianrasmussen/Desktop/bsc3/bachelor_project/notebooks/more_testing.ipynb#W4sZmlsZQ%3D%3D?line=16'>17</a>\u001b[0m dataframe \u001b[39m=\u001b[39m pd\u001b[39m.\u001b[39mread_csv(comment_csv)\n\u001b[1;32m     <a href='vscode-notebook-cell:/Users/christianrasmussen/Desktop/bsc3/bachelor_project/notebooks/more_testing.ipynb#W4sZmlsZQ%3D%3D?line=17'>18</a>\u001b[0m dataframe[\u001b[39m'\u001b[39m\u001b[39mcleaned_text\u001b[39m\u001b[39m'\u001b[39m] \u001b[39m=\u001b[39m prep_pipeline(dataframe, comment_column)\n\u001b[0;32m---> <a href='vscode-notebook-cell:/Users/christianrasmussen/Desktop/bsc3/bachelor_project/notebooks/more_testing.ipynb#W4sZmlsZQ%3D%3D?line=18'>19</a>\u001b[0m dataframe[\u001b[39m'\u001b[39m\u001b[39mshort\u001b[39m\u001b[39m'\u001b[39m] \u001b[39m=\u001b[39m shorten_sens(dataframe[\u001b[39m'\u001b[39m\u001b[39mcleaned_text\u001b[39m\u001b[39m'\u001b[39m], desired_comment_length)\n\u001b[1;32m     <a href='vscode-notebook-cell:/Users/christianrasmussen/Desktop/bsc3/bachelor_project/notebooks/more_testing.ipynb#W4sZmlsZQ%3D%3D?line=19'>20</a>\u001b[0m \u001b[39mreturn\u001b[39;00m dataframe\n",
      "File \u001b[0;32m/Library/Frameworks/Python.framework/Versions/3.10/lib/python3.10/site-packages/pandas/core/frame.py:3655\u001b[0m, in \u001b[0;36mDataFrame.__setitem__\u001b[0;34m(self, key, value)\u001b[0m\n\u001b[1;32m   3652\u001b[0m     \u001b[39mself\u001b[39m\u001b[39m.\u001b[39m_setitem_array([key], value)\n\u001b[1;32m   3653\u001b[0m \u001b[39melse\u001b[39;00m:\n\u001b[1;32m   3654\u001b[0m     \u001b[39m# set column\u001b[39;00m\n\u001b[0;32m-> 3655\u001b[0m     \u001b[39mself\u001b[39;49m\u001b[39m.\u001b[39;49m_set_item(key, value)\n",
      "File \u001b[0;32m/Library/Frameworks/Python.framework/Versions/3.10/lib/python3.10/site-packages/pandas/core/frame.py:3832\u001b[0m, in \u001b[0;36mDataFrame._set_item\u001b[0;34m(self, key, value)\u001b[0m\n\u001b[1;32m   3822\u001b[0m \u001b[39mdef\u001b[39;00m \u001b[39m_set_item\u001b[39m(\u001b[39mself\u001b[39m, key, value) \u001b[39m-\u001b[39m\u001b[39m>\u001b[39m \u001b[39mNone\u001b[39;00m:\n\u001b[1;32m   3823\u001b[0m     \u001b[39m\"\"\"\u001b[39;00m\n\u001b[1;32m   3824\u001b[0m \u001b[39m    Add series to DataFrame in specified column.\u001b[39;00m\n\u001b[1;32m   3825\u001b[0m \n\u001b[0;32m   (...)\u001b[0m\n\u001b[1;32m   3830\u001b[0m \u001b[39m    ensure homogeneity.\u001b[39;00m\n\u001b[1;32m   3831\u001b[0m \u001b[39m    \"\"\"\u001b[39;00m\n\u001b[0;32m-> 3832\u001b[0m     value \u001b[39m=\u001b[39m \u001b[39mself\u001b[39;49m\u001b[39m.\u001b[39;49m_sanitize_column(value)\n\u001b[1;32m   3834\u001b[0m     \u001b[39mif\u001b[39;00m (\n\u001b[1;32m   3835\u001b[0m         key \u001b[39min\u001b[39;00m \u001b[39mself\u001b[39m\u001b[39m.\u001b[39mcolumns\n\u001b[1;32m   3836\u001b[0m         \u001b[39mand\u001b[39;00m value\u001b[39m.\u001b[39mndim \u001b[39m==\u001b[39m \u001b[39m1\u001b[39m\n\u001b[1;32m   3837\u001b[0m         \u001b[39mand\u001b[39;00m \u001b[39mnot\u001b[39;00m is_extension_array_dtype(value)\n\u001b[1;32m   3838\u001b[0m     ):\n\u001b[1;32m   3839\u001b[0m         \u001b[39m# broadcast across multiple columns if necessary\u001b[39;00m\n\u001b[1;32m   3840\u001b[0m         \u001b[39mif\u001b[39;00m \u001b[39mnot\u001b[39;00m \u001b[39mself\u001b[39m\u001b[39m.\u001b[39mcolumns\u001b[39m.\u001b[39mis_unique \u001b[39mor\u001b[39;00m \u001b[39misinstance\u001b[39m(\u001b[39mself\u001b[39m\u001b[39m.\u001b[39mcolumns, MultiIndex):\n",
      "File \u001b[0;32m/Library/Frameworks/Python.framework/Versions/3.10/lib/python3.10/site-packages/pandas/core/frame.py:4535\u001b[0m, in \u001b[0;36mDataFrame._sanitize_column\u001b[0;34m(self, value)\u001b[0m\n\u001b[1;32m   4532\u001b[0m     \u001b[39mreturn\u001b[39;00m _reindex_for_setitem(value, \u001b[39mself\u001b[39m\u001b[39m.\u001b[39mindex)\n\u001b[1;32m   4534\u001b[0m \u001b[39mif\u001b[39;00m is_list_like(value):\n\u001b[0;32m-> 4535\u001b[0m     com\u001b[39m.\u001b[39;49mrequire_length_match(value, \u001b[39mself\u001b[39;49m\u001b[39m.\u001b[39;49mindex)\n\u001b[1;32m   4536\u001b[0m \u001b[39mreturn\u001b[39;00m sanitize_array(value, \u001b[39mself\u001b[39m\u001b[39m.\u001b[39mindex, copy\u001b[39m=\u001b[39m\u001b[39mTrue\u001b[39;00m, allow_2d\u001b[39m=\u001b[39m\u001b[39mTrue\u001b[39;00m)\n",
      "File \u001b[0;32m/Library/Frameworks/Python.framework/Versions/3.10/lib/python3.10/site-packages/pandas/core/common.py:557\u001b[0m, in \u001b[0;36mrequire_length_match\u001b[0;34m(data, index)\u001b[0m\n\u001b[1;32m    553\u001b[0m \u001b[39m\"\"\"\u001b[39;00m\n\u001b[1;32m    554\u001b[0m \u001b[39mCheck the length of data matches the length of the index.\u001b[39;00m\n\u001b[1;32m    555\u001b[0m \u001b[39m\"\"\"\u001b[39;00m\n\u001b[1;32m    556\u001b[0m \u001b[39mif\u001b[39;00m \u001b[39mlen\u001b[39m(data) \u001b[39m!=\u001b[39m \u001b[39mlen\u001b[39m(index):\n\u001b[0;32m--> 557\u001b[0m     \u001b[39mraise\u001b[39;00m \u001b[39mValueError\u001b[39;00m(\n\u001b[1;32m    558\u001b[0m         \u001b[39m\"\u001b[39m\u001b[39mLength of values \u001b[39m\u001b[39m\"\u001b[39m\n\u001b[1;32m    559\u001b[0m         \u001b[39mf\u001b[39m\u001b[39m\"\u001b[39m\u001b[39m(\u001b[39m\u001b[39m{\u001b[39;00m\u001b[39mlen\u001b[39m(data)\u001b[39m}\u001b[39;00m\u001b[39m) \u001b[39m\u001b[39m\"\u001b[39m\n\u001b[1;32m    560\u001b[0m         \u001b[39m\"\u001b[39m\u001b[39mdoes not match length of index \u001b[39m\u001b[39m\"\u001b[39m\n\u001b[1;32m    561\u001b[0m         \u001b[39mf\u001b[39m\u001b[39m\"\u001b[39m\u001b[39m(\u001b[39m\u001b[39m{\u001b[39;00m\u001b[39mlen\u001b[39m(index)\u001b[39m}\u001b[39;00m\u001b[39m)\u001b[39m\u001b[39m\"\u001b[39m\n\u001b[1;32m    562\u001b[0m     )\n",
      "\u001b[0;31mValueError\u001b[0m: Length of values (7771) does not match length of index (14133)"
     ]
    }
   ],
   "source": [
    "def save_embeddings_as_npy(destination_path : str, comment_csv, comment_column : str, desired_comment_length : int):\n",
    "    '''\n",
    "    Nlp pipeline function which takes a pandas dataframe and relevant columns, performs preprocessing steps, uses sentence_transformer embeddings and saves the embeddings as a csv file.\n",
    "    '''\n",
    "    sentences = shorten_and_clean_dataset(comment_csv, comment_column, desired_comment_length)\n",
    "    embeddings = embed_comments(sentences['short'])\n",
    "    return np.save(destination_path, embeddings)\n",
    "   # return savetxt(destination_path, embeddings, delimiter = ',')\n",
    "\n",
    "### UNCOMMENT BELOW TO DO EMBEDDINGS AND SAVE THEM\n",
    "\n",
    "save_embeddings_as_npy('../data/embeddings/politics_embeddings.npy', '../data/scrapes/politics.csv', 'comment_text', 50)\n",
    "save_embeddings_as_npy('../data/embeddings/gaming_embeddings.npy', '../data/scrapes/gaming.csv', 'comment_text', 50)\n",
    "save_embeddings_as_npy('../data/embeddings/marauders_embeddings.npy', '../data/scrapes/MaraudersGame.csv', 'comment_text', 50)\n",
    "save_embeddings_as_npy('../data/embeddings/tarkov_embeddings.npy', '../data/scrapes/EscapefromTarkov.csv', 'comment_text', 50)\n",
    "save_embeddings_as_npy('../data/embeddings/satisfactory_embeddings.npy', '../data/scrapes/SatisfactoryGame.csv', 'comment_text', 50)"
   ]
  },
  {
   "cell_type": "code",
   "execution_count": null,
   "metadata": {},
   "outputs": [],
   "source": [
    "def pair_users_embeddings(dataframe, embeddings, average_out_comments = False):\n",
    "    usernames = dataframe['comment_author']\n",
    "    user_dictionary = {}\n",
    "    for author, embedded_comment in zip(usernames, embeddings):\n",
    "        if author not in user_dictionary.keys():\n",
    "            user_dictionary[author] = []\n",
    "            user_dictionary[author].append(embedded_comment)\n",
    "        else:\n",
    "            user_dictionary[author].append(embedded_comment)\n",
    "    if average_out_comments:\n",
    "        for user in user_dictionary:\n",
    "            number_or_comments = len(user_dictionary[user])\n",
    "            user_dictionary[user] = sum(user_dictionary[user])/number_or_comments\n",
    "    return user_dictionary"
   ]
  },
  {
   "cell_type": "code",
   "execution_count": null,
   "metadata": {},
   "outputs": [],
   "source": [
    "# LOADING EMBEDDINGS FROM FILES\n",
    "\n",
    "politics_embeddings = np.load('../data/embeddings/politics_embeddings.npy')\n",
    "gaming_embeddings = np.load('../data/embeddings/gaming_embeddings.npy')\n",
    "marauders_embeddings = np.load('../data/embeddings/marauders_embeddings.npy')\n",
    "tarkov_embeddings = np.load('../data/embeddings/tarkov_embeddings.npy')\n",
    "\n",
    "# include below when the satisfactory embeddings are done\n",
    "# satisfactory_embeddings = np.load('../data/embeddings/satisfactory_embeddings.npy')"
   ]
  },
  {
   "cell_type": "code",
   "execution_count": null,
   "metadata": {},
   "outputs": [],
   "source": [
    "politics_user_embeddings = pair_users_embeddings(df_politics, politics_embeddings, True)"
   ]
  },
  {
   "cell_type": "code",
   "execution_count": null,
   "metadata": {},
   "outputs": [],
   "source": [
    "pca = PCA(n_components=2)\n",
    "two_dimensional_embeddings = pca.fit_transform(list(politics_user_embeddings.values()))\n",
    "\n",
    "kmeans = KMeans(n_clusters=2, random_state=0)\n",
    "\n",
    "classes = kmeans.fit_predict(two_dimensional_embeddings)"
   ]
  },
  {
   "cell_type": "code",
   "execution_count": null,
   "metadata": {},
   "outputs": [],
   "source": [
    "def reduce_dims_and_kmeans(user_embedding_pairs, num_of_dimensions):\n",
    "    '''\n",
    "    Current version only works w 2 colors. \n",
    "    '''\n",
    "    # Set PCA to desired number of dimensions\n",
    "    pca = PCA(n_components=num_of_dimensions)\n",
    "\n",
    "\n",
    "    pca_embeddings = pca.fit_transform(list(user_embedding_pairs.values()))\n",
    "\n",
    "    kmeans = KMeans(n_clusters=2, random_state=0) \n",
    "\n",
    "    classes = kmeans.fit_predict(pca_embeddings)\n",
    "\n",
    "\n",
    "    label_color_map = {0 : 'r',1 : 'g'}\n",
    "    label_color = [label_color_map[l] for l in classes]\n",
    "    plt.scatter(pca_embeddings[:,0], pca_embeddings[:,1], c=label_color)"
   ]
  },
  {
   "cell_type": "code",
   "execution_count": null,
   "metadata": {},
   "outputs": [],
   "source": [
    "reduce_dims_and_kmeans(politics_user_embeddings, 2)"
   ]
  }
 ],
 "metadata": {
  "kernelspec": {
   "display_name": "Python 3 (ipykernel)",
   "language": "python",
   "name": "python3"
  },
  "language_info": {
   "codemirror_mode": {
    "name": "ipython",
    "version": 3
   },
   "file_extension": ".py",
   "mimetype": "text/x-python",
   "name": "python",
   "nbconvert_exporter": "python",
   "pygments_lexer": "ipython3",
   "version": "3.10.2"
  },
  "vscode": {
   "interpreter": {
    "hash": "aee8b7b246df8f9039afb4144a1f6fd8d2ca17a180786b69acc140d282b71a49"
   }
  }
 },
 "nbformat": 4,
 "nbformat_minor": 2
}
