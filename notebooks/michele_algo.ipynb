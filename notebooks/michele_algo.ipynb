{
 "cells": [
  {
   "cell_type": "code",
   "execution_count": 1,
   "metadata": {},
   "outputs": [],
   "source": [
    "import sys\n",
    "sys.path.append('../')\n",
    "from michele_measures.ge_polarization.modules.alt import *\n",
    "from michele_measures.ge_polarization.modules.ps import _ge_Q, ge\n",
    "\n",
    "import networkx as nx"
   ]
  },
  {
   "attachments": {},
   "cell_type": "markdown",
   "metadata": {},
   "source": [
    "# Cleaning Network"
   ]
  },
  {
   "cell_type": "code",
   "execution_count": 2,
   "metadata": {},
   "outputs": [],
   "source": [
    "def clean(G):\n",
    "\n",
    "    G = G.to_undirected()\n",
    "\n",
    "    # removing nodes missing polarity attribute\n",
    "    ball = G.copy()\n",
    "    for node in ball.nodes(data=True):\n",
    "        if len(node[1]) == 1:\n",
    "            G.remove_node(node[0])\n",
    "\n",
    "    # include only biggest connected component\n",
    "    Gcc = sorted(nx.connected_components(G), key=len, reverse=True)\n",
    "    G = G.subgraph(Gcc[0])\n",
    "\n",
    "    return G"
   ]
  },
  {
   "attachments": {},
   "cell_type": "markdown",
   "metadata": {},
   "source": [
    "# alt.py"
   ]
  },
  {
   "cell_type": "code",
   "execution_count": null,
   "metadata": {},
   "outputs": [],
   "source": [
    "G = nx.read_gexf('../data/19march/graphs/HuntShowdown_network.gexf')\n",
    "\n",
    "ball = G.copy()\n",
    "\n",
    "for node in ball.nodes(data=True):\n",
    "    if len(node[1]) == 1:\n",
    "        G.remove_node(node[0])"
   ]
  },
  {
   "cell_type": "code",
   "execution_count": null,
   "metadata": {},
   "outputs": [],
   "source": [
    "# get rid of isolated guys\n",
    "G.remove_nodes_from(list(nx.isolates(G)))\n",
    "\n",
    "#G.remove_nodes_from(['LOwrYdr24'])\n",
    "\n",
    "G = G.to_undirected()\n",
    "\n",
    "# getting node_dict for use in function\n",
    "node_dict = nx.get_node_attributes(G, 'polarity')\n",
    "\n",
    "df = avg_neighbor_polarity(G, node_dict)"
   ]
  },
  {
   "cell_type": "code",
   "execution_count": null,
   "metadata": {},
   "outputs": [],
   "source": [
    "df.head()"
   ]
  },
  {
   "attachments": {},
   "cell_type": "markdown",
   "metadata": {},
   "source": [
    "# ps.py"
   ]
  },
  {
   "cell_type": "code",
   "execution_count": 3,
   "metadata": {},
   "outputs": [],
   "source": [
    "def do_ge(G):\n",
    "    G = clean(G)\n",
    "\n",
    "    node_dict = nx.get_node_attributes(G, 'polarity')\n",
    "    \n",
    "    a = _ge_Q(G)\n",
    "\n",
    "    b = ge(node_dict, {}, G, a)\n",
    "\n",
    "    return b"
   ]
  },
  {
   "cell_type": "code",
   "execution_count": 6,
   "metadata": {},
   "outputs": [
    {
     "name": "stdout",
     "output_type": "stream",
     "text": [
      "37.12071447205566\n"
     ]
    }
   ],
   "source": [
    "G = nx.read_gexf('../data/19march/graphs/tarkov_network.gexf')\n",
    "print(do_ge(G))"
   ]
  },
  {
   "cell_type": "code",
   "execution_count": 7,
   "metadata": {},
   "outputs": [
    {
     "name": "stdout",
     "output_type": "stream",
     "text": [
      "34.189506660262545\n"
     ]
    }
   ],
   "source": [
    "G = nx.read_gexf('../data/19march/graphs/HuntShowdown_network.gexf')\n",
    "print(do_ge(G))"
   ]
  },
  {
   "cell_type": "code",
   "execution_count": 8,
   "metadata": {},
   "outputs": [
    {
     "name": "stdout",
     "output_type": "stream",
     "text": [
      "21.93863531393653\n"
     ]
    }
   ],
   "source": [
    "G = nx.read_gexf('../data/19march/graphs/politics_network.gexf')\n",
    "print(do_ge(G))"
   ]
  },
  {
   "cell_type": "code",
   "execution_count": 9,
   "metadata": {},
   "outputs": [
    {
     "name": "stdout",
     "output_type": "stream",
     "text": [
      "5.587684871413403\n"
     ]
    }
   ],
   "source": [
    "G = nx.read_gexf('../data/19march/graphs/gaming_network.gexf')\n",
    "print(do_ge(G))"
   ]
  },
  {
   "cell_type": "code",
   "execution_count": 10,
   "metadata": {},
   "outputs": [
    {
     "name": "stdout",
     "output_type": "stream",
     "text": [
      "78.42146836339661\n"
     ]
    }
   ],
   "source": [
    "G = nx.read_gexf('../data/23march_chur/graphs/gaming.gexf')\n",
    "print(do_ge(G))"
   ]
  },
  {
   "cell_type": "code",
   "execution_count": 11,
   "metadata": {},
   "outputs": [
    {
     "name": "stdout",
     "output_type": "stream",
     "text": [
      "38.30282674879232\n"
     ]
    }
   ],
   "source": [
    "G = nx.read_gexf('../data/23march_chur/graphs/politics.gexf')\n",
    "print(do_ge(G))"
   ]
  }
 ],
 "metadata": {
  "kernelspec": {
   "display_name": "thesis",
   "language": "python",
   "name": "python3"
  },
  "language_info": {
   "codemirror_mode": {
    "name": "ipython",
    "version": 3
   },
   "file_extension": ".py",
   "mimetype": "text/x-python",
   "name": "python",
   "nbconvert_exporter": "python",
   "pygments_lexer": "ipython3",
   "version": "3.10.9"
  },
  "orig_nbformat": 4
 },
 "nbformat": 4,
 "nbformat_minor": 2
}
