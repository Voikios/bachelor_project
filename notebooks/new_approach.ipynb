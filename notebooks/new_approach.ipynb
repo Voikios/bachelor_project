{
 "cells": [
  {
   "cell_type": "markdown",
   "metadata": {},
   "source": [
    "# Imports and other setup"
   ]
  },
  {
   "cell_type": "code",
   "execution_count": null,
   "metadata": {},
   "outputs": [],
   "source": [
    "pip install sklearn"
   ]
  },
  {
   "cell_type": "code",
   "execution_count": null,
   "metadata": {},
   "outputs": [],
   "source": [
    "# data processing\n",
    "import pandas as pd\n",
    "import numpy as np\n",
    "from numpy import genfromtxt\n",
    "\n",
    "# graphs / figures\n",
    "import matplotlib.pyplot as plt\n",
    "%matplotlib inline\n",
    "import seaborn as sns\n",
    "import networkx as nx\n",
    "\n",
    "# sklearn / models\n",
    "from sklearn.decomposition import PCA\n",
    "from sklearn.cluster import KMeans, SpectralClustering, AgglomerativeClustering, FeatureAgglomeration\n",
    "from sklearn.preprocessing import StandardScaler\n",
    "from sklearn.metrics import classification_report\n",
    "from sklearn.model_selection import train_test_split\n",
    "from sklearn.preprocessing import OneHotEncoder\n",
    "\n",
    "# nltk\n",
    "import nltk\n",
    "from nltk.corpus import stopwords\n",
    "\n",
    "# others\n",
    "import os\n",
    "import sys\n",
    "sys.path.append('../')\n",
    "from embedding_functions_hugo.embedding_functions import *\n",
    "from tqdm import tqdm\n",
    "from bs4 import BeautifulSoup\n",
    "import re\n",
    "from happytransformer import HappyTextClassification\n",
    "\n",
    "def shorten_and_clean_dataset (comment_csv, comment_column : str, desired_comment_length : int):\n",
    "    dataframe = pd.read_csv(comment_csv)\n",
    "    dataframe['cleaned_text'] = prep_pipeline(dataframe, comment_column)\n",
    "    dataframe['short'] = shorten_sens(dataframe['cleaned_text'], desired_comment_length)\n",
    "    return dataframe"
   ]
  },
  {
   "cell_type": "markdown",
   "metadata": {},
   "source": [
    "# Data Processing"
   ]
  },
  {
   "cell_type": "code",
   "execution_count": null,
   "metadata": {},
   "outputs": [],
   "source": [
    "# df_politics = pd.read_csv('../data/28feb/scrapes/politics.csv')"
   ]
  },
  {
   "cell_type": "markdown",
   "metadata": {},
   "source": [
    "### Function for getting post_title, post_author, post_id, and the embedded title texts"
   ]
  },
  {
   "cell_type": "code",
   "execution_count": null,
   "metadata": {},
   "outputs": [],
   "source": [
    "def do_post_titles(df):\n",
    "    texts, authors, post_ids = [], [], []\n",
    "    title_author_set = set(zip(df['post_title'], df['post_author'], df['post_id']))\n",
    "\n",
    "    for text, author, post_id in  title_author_set:\n",
    "        texts.append(text)\n",
    "        authors.append(author)\n",
    "        post_ids.append(post_id)\n",
    "    \n",
    "    title_embeddings = embed_comments(texts)\n",
    "    return pd.DataFrame(data=[post_ids, authors, texts, title_embeddings]).T.rename(columns={0 : 'post_id', 1: 'post_author', 2: 'post_title', 3: 'embeddings'})"
   ]
  },
  {
   "cell_type": "code",
   "execution_count": null,
   "metadata": {},
   "outputs": [],
   "source": [
    "# politics_data = do_post_titles(df_politics)\n",
    "# politics_data.to_csv('../data/28feb/title_author_id_emb/politics.csv')\n",
    "\n",
    "# politics_data = pd.read_csv('../data/28feb/title_author_id_emb/politics.csv')"
   ]
  },
  {
   "cell_type": "markdown",
   "metadata": {},
   "source": [
    "### Peeking at title embeddings"
   ]
  },
  {
   "cell_type": "code",
   "execution_count": null,
   "metadata": {},
   "outputs": [],
   "source": [
    "# politics_data.head()"
   ]
  },
  {
   "cell_type": "code",
   "execution_count": null,
   "metadata": {},
   "outputs": [],
   "source": [
    "# plt.figure(1, figsize=(12,9))\n",
    "\n",
    "# reduce_dims_and_kmeans(dict(politics_data['embeddings']), 2)"
   ]
  },
  {
   "cell_type": "markdown",
   "metadata": {},
   "source": [
    "### Getting final dataframe that we can use"
   ]
  },
  {
   "cell_type": "code",
   "execution_count": null,
   "metadata": {},
   "outputs": [],
   "source": [
    "def shorten_comment_text(df):\n",
    "    '''Takes dataframe as input, shortens comment text, creates short_text column and removes comment_text column'''\n",
    "    \n",
    "    # getting all commenters that have also made a post\n",
    "    shortened_df = df.query('comment_author in post_author').copy()\n",
    "\n",
    "    # cleaning their comments and saving to new column\n",
    "    clean_text = prep_pipeline(shortened_df, 'comment_text', loud=False)\n",
    "    shortened_df['short_text'] = shorten_sens(clean_text, 50)\n",
    "    shortened_df.drop('comment_text', axis=1, inplace=True)\n",
    "\n",
    "    return shortened_df"
   ]
  },
  {
   "cell_type": "code",
   "execution_count": null,
   "metadata": {},
   "outputs": [],
   "source": [
    "def get_embed_pairs(df):\n",
    "   '''Takes dataframe as input, combines all user title texts into one\n",
    "      Returns embed_pairs'''\n",
    "    \n",
    "   # for each poster, appending all of their post text into one long string\n",
    "   embed_pairs = {}\n",
    "   for text, author in zip(df['post_title'], df['post_author']):\n",
    "      if author not in embed_pairs.keys():\n",
    "         embed_pairs[author] = text\n",
    "      else:\n",
    "         embed_pairs[author] += ' '+text\n",
    "\n",
    "   return embed_pairs\n",
    "\n",
    "def get_title_embeds(embed_pairs):\n",
    "   '''Takes embed_pairs as input. Embeds the post titles and returns an array of them.'''\n",
    "\n",
    "   # embedding all post titles and reducing them to 1 dimension\n",
    "   embeds = dict(zip(embed_pairs.keys(), embed_comments(list(embed_pairs.values()))))\n",
    "   embeds = reduce_to_one_dimension_kmeans(embeds)[-1]\n",
    "\n",
    "   return embeds"
   ]
  },
  {
   "cell_type": "markdown",
   "metadata": {},
   "source": [
    "# Creating Network"
   ]
  },
  {
   "cell_type": "code",
   "execution_count": null,
   "metadata": {},
   "outputs": [],
   "source": [
    "def create_network(df):\n",
    "    '''Takes dataframe as input, creates a directed networkx network and returns it'''\n",
    "\n",
    "    # Initializing text classification model\n",
    "    model = HappyTextClassification(model_type='DISTILBERT', model_name='distilbert-base-uncased-finetuned-sst-2-english', num_labels=2)\n",
    "\n",
    "    # initializing networkx directed graph\n",
    "    G = nx.DiGraph()\n",
    "\n",
    "    # combining users title texts into one\n",
    "    embed_pairs = get_embed_pairs(df)\n",
    "\n",
    "    # embedding those combined title texts\n",
    "    embeds = get_title_embeds(embed_pairs)\n",
    "\n",
    "    # adding each post author as a node to network, with their 1 dimensional title embeddings as an attribute (named polarity)\n",
    "    for i, j in zip(embed_pairs.keys(), embeds):\n",
    "        G.add_node(i, polarity = int(j))\n",
    "\n",
    "    # getting list of user pairs for comments left on posts\n",
    "    pairings = list(zip(df['comment_author'], df['post_author']))\n",
    "\n",
    "    # classifying sentiments of comment texts and saving them in list \"polarities\"\n",
    "    polarities = []\n",
    "    for comment in df['short_text']:\n",
    "        polarities.append(model.classify_text(comment).score)\n",
    "\n",
    "    # adding edges to graph, where each edge is a comment left by user a to user b, and its attribute is the sentiment of the comment\n",
    "    for pair, polarity in zip(pairings, polarities):\n",
    "        # avoiding self edge connections\n",
    "        if pair[0] != pair[1]:\n",
    "            G.add_edge(u_of_edge=pair[0], v_of_edge=pair[1], attr=polarity)\n",
    "\n",
    "    # drawing network\n",
    "    nx.draw(G)\n",
    "\n",
    "    return G"
   ]
  },
  {
   "attachments": {},
   "cell_type": "markdown",
   "metadata": {},
   "source": [
    "## Creating, initially inspecting and saving subreddits\n",
    "\n",
    "Example filepath: '../data/19march/graphs/politics_network.gexf'\n",
    "\n",
    "Make sure the filepath exists before running (manually create them) as otherwise it will take ~12 mins to run and end up giving an error\n",
    "\n",
    "### r/politics - takes ~11 mins with 19march politics"
   ]
  },
  {
   "cell_type": "code",
   "execution_count": null,
   "metadata": {},
   "outputs": [],
   "source": [
    "# grabbing scraped df\n",
    "df_politics = pd.read_csv('../data/23march_chur/scrapes/politics.csv', on_bad_lines='skip', lineterminator='\\n')\n",
    "\n",
    "# doing pre-network stuff\n",
    "df_politics_shortened = shorten_comment_text(df_politics)\n",
    "\n",
    "# creating and drawing network\n",
    "G_politics = create_network(df_politics_shortened)\n",
    "\n",
    "# saving network\n",
    "nx.write_gexf(G_politics, '../data/23march_chur/graphs/politics_network.gexf')"
   ]
  },
  {
   "attachments": {},
   "cell_type": "markdown",
   "metadata": {},
   "source": [
    "### r/gaming"
   ]
  },
  {
   "cell_type": "code",
   "execution_count": null,
   "metadata": {},
   "outputs": [],
   "source": [
    "# grabbing scraped df\n",
    "df_gaming = pd.read_csv('../data/23march_chur/scrapes/gaming.csv', on_bad_lines='skip')\n",
    "\n",
    "# doing pre-network stuff\n",
    "df_gaming_shortened = shorten_comment_text(df_gaming)\n",
    "\n",
    "# creating and drawing network\n",
    "G_gaming = create_network(df_gaming_shortened)\n",
    "\n",
    "# saving network\n",
    "nx.write_gexf(G_gaming, '../data/23march_chur/graphs/gaming_network.gexf')"
   ]
  },
  {
   "attachments": {},
   "cell_type": "markdown",
   "metadata": {},
   "source": [
    "### r/EscapefromTarkov"
   ]
  },
  {
   "cell_type": "code",
   "execution_count": null,
   "metadata": {},
   "outputs": [],
   "source": [
    "# grabbing scraped df\n",
    "df_tarkov = pd.read_csv('../data/19march/scrapes/EscapefromTarkov.csv')\n",
    "\n",
    "# doing pre-network stuff\n",
    "df_tarkov_shortened = shorten_comment_text(df_tarkov)\n",
    "\n",
    "# creating and drawing network\n",
    "G_tarkov = create_network(df_tarkov_shortened)\n",
    "\n",
    "# saving network\n",
    "nx.write_gexf(G_tarkov, '../data/19march/graphs/tarkov_network.gexf')"
   ]
  },
  {
   "cell_type": "code",
   "execution_count": null,
   "metadata": {},
   "outputs": [],
   "source": [
    "# grabbing scraped df\n",
    "df_okbuddyretard = pd.read_csv('../data/19march/scrapes/okbuddyretard.csv')\n",
    "\n",
    "# doing pre-network stuff\n",
    "df_okbuddyretard_shortened = shorten_comment_text(df_okbuddyretard)\n",
    "\n",
    "# creating and drawing network\n",
    "G_okbuddyretard = create_network(df_okbuddyretard_shortened)\n",
    "\n",
    "# saving network\n",
    "nx.write_gexf(G_okbuddyretard, '../data/19march/graphs/okbuddyretard_network.gexf')"
   ]
  },
  {
   "cell_type": "code",
   "execution_count": null,
   "metadata": {},
   "outputs": [],
   "source": [
    "# grabbing scraped df\n",
    "df_HuntShowdown = pd.read_csv('../data/19march/scrapes/HuntShowdown.csv')\n",
    "\n",
    "# doing pre-network stuff\n",
    "df_HuntShowdown_shortened = shorten_comment_text(df_HuntShowdown)\n",
    "\n",
    "# creating and drawing network\n",
    "G_HuntShowdown = create_network(df_HuntShowdown_shortened)\n",
    "\n",
    "# saving network\n",
    "nx.write_gexf(G_HuntShowdown, '../data/19march/graphs/HuntShowdown_network.gexf')"
   ]
  }
 ],
 "metadata": {
  "kernelspec": {
   "display_name": "Python 3 (ipykernel)",
   "language": "python",
   "name": "python3"
  },
  "language_info": {
   "codemirror_mode": {
    "name": "ipython",
    "version": 3
   },
   "file_extension": ".py",
   "mimetype": "text/x-python",
   "name": "python",
   "nbconvert_exporter": "python",
   "pygments_lexer": "ipython3",
   "version": "3.10.2"
  },
  "vscode": {
   "interpreter": {
    "hash": "aee8b7b246df8f9039afb4144a1f6fd8d2ca17a180786b69acc140d282b71a49"
   }
  }
 },
 "nbformat": 4,
 "nbformat_minor": 2
}
