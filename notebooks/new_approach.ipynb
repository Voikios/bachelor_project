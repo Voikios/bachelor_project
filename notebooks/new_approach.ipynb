{
 "cells": [
  {
   "cell_type": "code",
   "execution_count": 1,
   "metadata": {},
   "outputs": [],
   "source": [
    "# imports for using the notebook\n",
    "\n",
    "import pandas as pd\n",
    "import sys\n",
    "sys.path.append('../')\n",
    "from embedding_functions_hugo.embedding_functions import *\n",
    "from sklearn.preprocessing import StandardScaler\n",
    "import numpy as np\n",
    "from numpy import genfromtxt\n",
    "import nltk\n",
    "import matplotlib.pyplot as plt\n",
    "from sklearn.cluster import KMeans, SpectralClustering, AgglomerativeClustering, FeatureAgglomeration\n",
    "from sklearn.decomposition import PCA\n",
    "import seaborn as sns\n",
    "import networkx as nx\n",
    "\n",
    "from tqdm import tqdm \n",
    "\n",
    "\n",
    "def shorten_and_clean_dataset (comment_csv, comment_column : str, desired_comment_length : int):\n",
    "    dataframe = pd.read_csv(comment_csv)\n",
    "    dataframe['cleaned_text'] = prep_pipeline(dataframe, comment_column)\n",
    "    dataframe['short'] = shorten_sens(dataframe['cleaned_text'], desired_comment_length)\n",
    "    return dataframe"
   ]
  },
  {
   "cell_type": "code",
   "execution_count": 2,
   "metadata": {},
   "outputs": [],
   "source": [
    "df_politics = pd.read_csv('../data/28feb/scrapes/politics.csv')"
   ]
  },
  {
   "cell_type": "code",
   "execution_count": 3,
   "metadata": {},
   "outputs": [
    {
     "name": "stderr",
     "output_type": "stream",
     "text": [
      "2023-03-06 15:40:26.610631: I tensorflow/core/platform/cpu_feature_guard.cc:193] This TensorFlow binary is optimized with oneAPI Deep Neural Network Library (oneDNN) to use the following CPU instructions in performance-critical operations:  AVX2 FMA\n",
      "To enable them in other operations, rebuild TensorFlow with the appropriate compiler flags.\n",
      "[nltk_data] Error loading punkt: <urlopen error [SSL:\n",
      "[nltk_data]     CERTIFICATE_VERIFY_FAILED] certificate verify failed:\n",
      "[nltk_data]     unable to get local issuer certificate (_ssl.c:997)>\n"
     ]
    }
   ],
   "source": [
    "def do_post_titles(df):\n",
    "\n",
    "    texts, authors, post_ids = [], [], []\n",
    "    title_author_set = set(zip(df['post_title'], df['post_author'], df['post_id'])) \n",
    "\n",
    "    for text, author, post_id in  title_author_set:\n",
    "        texts.append(text)\n",
    "        authors.append(author)\n",
    "        post_ids.append(post_id)\n",
    "    \n",
    "    title_embeddings = embed_comments(texts)\n",
    "    return pd.DataFrame(data=[post_ids, authors, texts, title_embeddings]).T.rename(columns={0 : 'post_id', 1: 'post_author', 2: 'post_title', 3: 'embeddings'})\n",
    "politics_data = do_post_titles(df_politics)"
   ]
  },
  {
   "cell_type": "code",
   "execution_count": 4,
   "metadata": {},
   "outputs": [
    {
     "name": "stderr",
     "output_type": "stream",
     "text": [
      "/Library/Frameworks/Python.framework/Versions/3.10/lib/python3.10/site-packages/sklearn/cluster/_kmeans.py:870: FutureWarning: The default value of `n_init` will change from 10 to 'auto' in 1.4. Set the value of `n_init` explicitly to suppress the warning\n",
      "  warnings.warn(\n"
     ]
    },
    {
     "data": {
      "image/png": "[encoded data removed]",
      "text/plain": [
       "<Figure size 864x648 with 1 Axes>"
      ]
     },
     "metadata": {
      "needs_background": "light"
     },
     "output_type": "display_data"
    }
   ],
   "source": [
    "plt.figure(1, figsize=(12,9))\n",
    "\n",
    "reduce_dims_and_kmeans(dict(politics_data['embeddings']), 2)"
   ]
  },
  {
   "cell_type": "code",
   "execution_count": 5,
   "metadata": {},
   "outputs": [
    {
     "name": "stderr",
     "output_type": "stream",
     "text": [
      "/Library/Frameworks/Python.framework/Versions/3.10/lib/python3.10/site-packages/sklearn/cluster/_kmeans.py:870: FutureWarning: The default value of `n_init` will change from 10 to 'auto' in 1.4. Set the value of `n_init` explicitly to suppress the warning\n",
      "  warnings.warn(\n"
     ]
    },
    {
     "data": {
      "text/plain": [
       "(dict_keys([0, 1, 2, 3, 4, 5, 6, 7, 8, 9, 10, 11, 12, 13, 14, 15, 16, 17, 18, 19, 20, 21, 22, 23, 24, 25, 26, 27, 28, 29, 30, 31, 32, 33, 34, 35, 36, 37, 38, 39, 40, 41, 42, 43, 44, 45, 46, 47, 48, 49, 50, 51, 52, 53, 54, 55, 56, 57, 58, 59, 60, 61, 62, 63, 64, 65, 66, 67, 68, 69, 70, 71, 72, 73, 74, 75, 76, 77, 78, 79, 80, 81, 82, 83, 84, 85, 86, 87, 88, 89, 90, 91, 92, 93, 94, 95, 96, 97, 98, 99]),\n",
       " array([0, 1, 0, 0, 1, 1, 0, 0, 1, 0, 0, 1, 0, 1, 1, 0, 1, 0, 1, 1, 1, 1,\n",
       "        1, 1, 1, 0, 1, 0, 1, 1, 1, 0, 0, 0, 0, 0, 0, 0, 1, 1, 1, 0, 1, 0,\n",
       "        0, 0, 0, 0, 0, 0, 1, 0, 1, 1, 0, 0, 0, 0, 1, 0, 0, 0, 1, 0, 1, 0,\n",
       "        0, 0, 1, 1, 0, 1, 0, 0, 0, 0, 0, 0, 0, 0, 0, 0, 0, 1, 0, 0, 0, 0,\n",
       "        1, 0, 1, 1, 0, 1, 0, 0, 1, 1, 1, 1], dtype=int32),\n",
       " array([[-0.7338243 ],\n",
       "        [ 0.97330423],\n",
       "        [-3.26497811],\n",
       "        [ 0.23097905],\n",
       "        [ 4.26075663],\n",
       "        [ 0.99618232],\n",
       "        [ 0.24334175],\n",
       "        [-4.51457801],\n",
       "        [ 2.87179876],\n",
       "        [-4.72802538],\n",
       "        [-6.08504414],\n",
       "        [ 1.21511339],\n",
       "        [-5.2521243 ],\n",
       "        [ 8.50294415],\n",
       "        [ 5.00992465],\n",
       "        [-2.72105242],\n",
       "        [ 3.0062119 ],\n",
       "        [-7.06131404],\n",
       "        [ 1.70675964],\n",
       "        [ 1.30465202],\n",
       "        [ 1.74947069],\n",
       "        [ 4.95133107],\n",
       "        [ 5.70224164],\n",
       "        [ 1.39095647],\n",
       "        [ 0.67045499],\n",
       "        [-0.26460068],\n",
       "        [ 1.06345527],\n",
       "        [-0.19520786],\n",
       "        [ 3.51045166],\n",
       "        [ 3.35342618],\n",
       "        [ 6.39103611],\n",
       "        [-0.46066935],\n",
       "        [-1.32301041],\n",
       "        [-1.20943282],\n",
       "        [-1.97861903],\n",
       "        [-3.8914333 ],\n",
       "        [ 0.42209617],\n",
       "        [-0.49614274],\n",
       "        [ 2.4615371 ],\n",
       "        [ 1.34469069],\n",
       "        [ 2.65018144],\n",
       "        [-0.7203438 ],\n",
       "        [ 7.09298016],\n",
       "        [-1.89752765],\n",
       "        [-1.23060716],\n",
       "        [-2.14953419],\n",
       "        [-2.92413387],\n",
       "        [-0.75129103],\n",
       "        [-4.59029409],\n",
       "        [-2.32109752],\n",
       "        [ 2.04579073],\n",
       "        [-3.90838956],\n",
       "        [ 4.67982185],\n",
       "        [ 4.72205233],\n",
       "        [-2.82666542],\n",
       "        [-0.43510835],\n",
       "        [-3.05094853],\n",
       "        [-3.10488394],\n",
       "        [ 1.60085335],\n",
       "        [-4.30545722],\n",
       "        [-0.69896383],\n",
       "        [-0.75389001],\n",
       "        [ 6.87650433],\n",
       "        [-5.15102873],\n",
       "        [ 5.16449598],\n",
       "        [-5.06449746],\n",
       "        [-0.73711063],\n",
       "        [ 0.33060352],\n",
       "        [ 4.03119535],\n",
       "        [ 6.36428542],\n",
       "        [-2.48001454],\n",
       "        [ 1.68872383],\n",
       "        [-3.98696578],\n",
       "        [-3.10520338],\n",
       "        [-1.84244367],\n",
       "        [-2.15241371],\n",
       "        [-4.55854889],\n",
       "        [-0.50187722],\n",
       "        [-2.6984009 ],\n",
       "        [-2.07972844],\n",
       "        [-2.01568628],\n",
       "        [-1.23941761],\n",
       "        [-2.84636973],\n",
       "        [ 2.53995234],\n",
       "        [-3.58143728],\n",
       "        [-6.19462572],\n",
       "        [ 0.17371158],\n",
       "        [-0.78403329],\n",
       "        [ 2.07950451],\n",
       "        [-0.27014768],\n",
       "        [ 2.47916141],\n",
       "        [ 5.70330669],\n",
       "        [-1.78943611],\n",
       "        [ 1.98644557],\n",
       "        [-1.48031106],\n",
       "        [-0.29876547],\n",
       "        [ 0.6949191 ],\n",
       "        [ 3.40304849],\n",
       "        [ 2.57194451],\n",
       "        [ 2.49505759]]))"
      ]
     },
     "execution_count": 5,
     "metadata": {},
     "output_type": "execute_result"
    }
   ],
   "source": [
    "reduce_to_one_dimension_kmeans(dict(politics_data['embeddings']))"
   ]
  },
  {
   "cell_type": "code",
   "execution_count": 6,
   "metadata": {},
   "outputs": [
    {
     "name": "stderr",
     "output_type": "stream",
     "text": [
      "/Library/Frameworks/Python.framework/Versions/3.10/lib/python3.10/site-packages/sklearn/cluster/_kmeans.py:870: FutureWarning: The default value of `n_init` will change from 10 to 'auto' in 1.4. Set the value of `n_init` explicitly to suppress the warning\n",
      "  warnings.warn(\n"
     ]
    }
   ],
   "source": [
    "politics_data['one_dim'] = reduce_to_one_dimension_kmeans(dict(politics_data['embeddings']))[-1]"
   ]
  },
  {
   "cell_type": "code",
   "execution_count": 7,
   "metadata": {},
   "outputs": [],
   "source": [
    "import numpy as np\n",
    "import pandas as pd\n",
    "from sklearn.metrics import classification_report\n",
    "\n",
    "from bs4 import BeautifulSoup \n",
    "import re\n",
    "\n",
    "from nltk.corpus import stopwords\n",
    "\n",
    "from sklearn.model_selection import train_test_split\n",
    "\n",
    "from sklearn.preprocessing import OneHotEncoder\n",
    "import matplotlib.pyplot as plt\n",
    "%matplotlib inline\n",
    "from happytransformer import HappyTextClassification\n"
   ]
  },
  {
   "cell_type": "code",
   "execution_count": 8,
   "metadata": {},
   "outputs": [
    {
     "name": "stderr",
     "output_type": "stream",
     "text": [
      "03/06/2023 15:40:40 - INFO - happytransformer.happy_transformer -   Using model: cpu\n"
     ]
    }
   ],
   "source": [
    "model = HappyTextClassification(model_type='DISTILBERT', model_name='distilbert-base-uncased-finetuned-sst-2-english', num_labels=2)"
   ]
  },
  {
   "cell_type": "code",
   "execution_count": 9,
   "metadata": {},
   "outputs": [],
   "source": [
    "graph_1 = nx.Graph()\n",
    "# graph_1.add_nodes_from(list(politics_data['post_author']))\n",
    "# nx.set_node_attributes(graph_1, politics_data['one_dim'], 'score')"
   ]
  },
  {
   "cell_type": "code",
   "execution_count": 10,
   "metadata": {},
   "outputs": [
    {
     "data": {
      "text/plain": [
       "0    -0.734102\n",
       "1     0.973568\n",
       "2    -3.264441\n",
       "3     0.230825\n",
       "4     4.260843\n",
       "        ...   \n",
       "95   -0.298444\n",
       "96    0.695007\n",
       "97    3.402530\n",
       "98    2.571880\n",
       "99    2.494744\n",
       "Name: one_dim, Length: 100, dtype: float64"
      ]
     },
     "execution_count": 10,
     "metadata": {},
     "output_type": "execute_result"
    }
   ],
   "source": [
    "politics_data['one_dim']"
   ]
  },
  {
   "cell_type": "code",
   "execution_count": 11,
   "metadata": {},
   "outputs": [
    {
     "data": {
      "text/html": [
       "<div>\n",
       "<style scoped>\n",
       "    .dataframe tbody tr th:only-of-type {\n",
       "        vertical-align: middle;\n",
       "    }\n",
       "\n",
       "    .dataframe tbody tr th {\n",
       "        vertical-align: top;\n",
       "    }\n",
       "\n",
       "    .dataframe thead th {\n",
       "        text-align: right;\n",
       "    }\n",
       "</style>\n",
       "<table border=\"1\" class=\"dataframe\">\n",
       "  <thead>\n",
       "    <tr style=\"text-align: right;\">\n",
       "      <th></th>\n",
       "      <th>post_id</th>\n",
       "      <th>post_author</th>\n",
       "      <th>post_title</th>\n",
       "      <th>embeddings</th>\n",
       "      <th>one_dim</th>\n",
       "    </tr>\n",
       "  </thead>\n",
       "  <tbody>\n",
       "    <tr>\n",
       "      <th>0</th>\n",
       "      <td>11dqm6c</td>\n",
       "      <td>Hot-Bint</td>\n",
       "      <td>Rupert Murdoch gave Jared Kushner 'confidentia...</td>\n",
       "      <td>[-0.19192341, 0.80211586, -0.16259597, 0.42272...</td>\n",
       "      <td>-0.734102</td>\n",
       "    </tr>\n",
       "    <tr>\n",
       "      <th>1</th>\n",
       "      <td>11f4pxp</td>\n",
       "      <td>bildo72</td>\n",
       "      <td>To lower military suicides, Pentagon panel adv...</td>\n",
       "      <td>[0.23700176, 0.5473592, 0.6111684, 0.40033782,...</td>\n",
       "      <td>0.973568</td>\n",
       "    </tr>\n",
       "    <tr>\n",
       "      <th>2</th>\n",
       "      <td>10wuxdo</td>\n",
       "      <td>mdj1359</td>\n",
       "      <td>Dark Brandon shows up at State of the Union, m...</td>\n",
       "      <td>[-0.08714572, 0.9927409, -0.07985403, 0.439079...</td>\n",
       "      <td>-3.264441</td>\n",
       "    </tr>\n",
       "    <tr>\n",
       "      <th>3</th>\n",
       "      <td>10yy47m</td>\n",
       "      <td>CrackHeadRodeo</td>\n",
       "      <td>Republican Rep. Anna Paulina Luna claimed she ...</td>\n",
       "      <td>[0.078912154, 0.27851197, -1.0702236, 0.009658...</td>\n",
       "      <td>0.230825</td>\n",
       "    </tr>\n",
       "    <tr>\n",
       "      <th>4</th>\n",
       "      <td>11i1w2v</td>\n",
       "      <td>boregon</td>\n",
       "      <td>Florida courts could take 'emergency' custody ...</td>\n",
       "      <td>[-0.1093924, -0.47195092, 0.5826997, 0.0496520...</td>\n",
       "      <td>4.260843</td>\n",
       "    </tr>\n",
       "    <tr>\n",
       "      <th>...</th>\n",
       "      <td>...</td>\n",
       "      <td>...</td>\n",
       "      <td>...</td>\n",
       "      <td>...</td>\n",
       "      <td>...</td>\n",
       "    </tr>\n",
       "    <tr>\n",
       "      <th>95</th>\n",
       "      <td>118a6w8</td>\n",
       "      <td>TalcMine</td>\n",
       "      <td>Biden EPA to take over cleanup of toxic Ohio d...</td>\n",
       "      <td>[-0.17619674, 0.69390506, 0.35494787, 0.145533...</td>\n",
       "      <td>-0.298444</td>\n",
       "    </tr>\n",
       "    <tr>\n",
       "      <th>96</th>\n",
       "      <td>11h0v4n</td>\n",
       "      <td>Pemulis</td>\n",
       "      <td>Rupert Murdoch could face FEC fines if he tipp...</td>\n",
       "      <td>[-0.057751726, 0.6316826, 0.18160732, 0.196764...</td>\n",
       "      <td>0.695007</td>\n",
       "    </tr>\n",
       "    <tr>\n",
       "      <th>97</th>\n",
       "      <td>10wghis</td>\n",
       "      <td>vpuetf</td>\n",
       "      <td>Florida is officially a laboratory for fascism...</td>\n",
       "      <td>[-0.19462377, -0.17132975, 0.3380608, 0.399728...</td>\n",
       "      <td>3.402530</td>\n",
       "    </tr>\n",
       "    <tr>\n",
       "      <th>98</th>\n",
       "      <td>116a70w</td>\n",
       "      <td>hopopo</td>\n",
       "      <td>Bernie Sanders: ‘Oligarchs run Russia. But gue...</td>\n",
       "      <td>[-0.1697526, 0.4053155, -0.12408501, 0.4396499...</td>\n",
       "      <td>2.571880</td>\n",
       "    </tr>\n",
       "    <tr>\n",
       "      <th>99</th>\n",
       "      <td>11fl4zl</td>\n",
       "      <td>pea_nix</td>\n",
       "      <td>The Supreme Court justices deciding whether to...</td>\n",
       "      <td>[-0.6259461, 0.7697804, -0.5760406, -0.0951300...</td>\n",
       "      <td>2.494744</td>\n",
       "    </tr>\n",
       "  </tbody>\n",
       "</table>\n",
       "<p>100 rows × 5 columns</p>\n",
       "</div>"
      ],
      "text/plain": [
       "    post_id     post_author  \\\n",
       "0   11dqm6c        Hot-Bint   \n",
       "1   11f4pxp         bildo72   \n",
       "2   10wuxdo         mdj1359   \n",
       "3   10yy47m  CrackHeadRodeo   \n",
       "4   11i1w2v         boregon   \n",
       "..      ...             ...   \n",
       "95  118a6w8        TalcMine   \n",
       "96  11h0v4n         Pemulis   \n",
       "97  10wghis          vpuetf   \n",
       "98  116a70w          hopopo   \n",
       "99  11fl4zl         pea_nix   \n",
       "\n",
       "                                           post_title  \\\n",
       "0   Rupert Murdoch gave Jared Kushner 'confidentia...   \n",
       "1   To lower military suicides, Pentagon panel adv...   \n",
       "2   Dark Brandon shows up at State of the Union, m...   \n",
       "3   Republican Rep. Anna Paulina Luna claimed she ...   \n",
       "4   Florida courts could take 'emergency' custody ...   \n",
       "..                                                ...   \n",
       "95  Biden EPA to take over cleanup of toxic Ohio d...   \n",
       "96  Rupert Murdoch could face FEC fines if he tipp...   \n",
       "97  Florida is officially a laboratory for fascism...   \n",
       "98  Bernie Sanders: ‘Oligarchs run Russia. But gue...   \n",
       "99  The Supreme Court justices deciding whether to...   \n",
       "\n",
       "                                           embeddings   one_dim  \n",
       "0   [-0.19192341, 0.80211586, -0.16259597, 0.42272... -0.734102  \n",
       "1   [0.23700176, 0.5473592, 0.6111684, 0.40033782,...  0.973568  \n",
       "2   [-0.08714572, 0.9927409, -0.07985403, 0.439079... -3.264441  \n",
       "3   [0.078912154, 0.27851197, -1.0702236, 0.009658...  0.230825  \n",
       "4   [-0.1093924, -0.47195092, 0.5826997, 0.0496520...  4.260843  \n",
       "..                                                ...       ...  \n",
       "95  [-0.17619674, 0.69390506, 0.35494787, 0.145533... -0.298444  \n",
       "96  [-0.057751726, 0.6316826, 0.18160732, 0.196764...  0.695007  \n",
       "97  [-0.19462377, -0.17132975, 0.3380608, 0.399728...  3.402530  \n",
       "98  [-0.1697526, 0.4053155, -0.12408501, 0.4396499...  2.571880  \n",
       "99  [-0.6259461, 0.7697804, -0.5760406, -0.0951300...  2.494744  \n",
       "\n",
       "[100 rows x 5 columns]"
      ]
     },
     "execution_count": 11,
     "metadata": {},
     "output_type": "execute_result"
    }
   ],
   "source": [
    "politics_data"
   ]
  },
  {
   "cell_type": "code",
   "execution_count": 12,
   "metadata": {},
   "outputs": [
    {
     "name": "stdout",
     "output_type": "stream",
     "text": [
      "lowering done!\n",
      "Contractions removed!\n",
      "urls away!\n",
      "htmls too!\n",
      "asciis outta here!\n",
      "special  characs done\n",
      "puncts done\n",
      "long one...\n"
     ]
    }
   ],
   "source": [
    "author_df = df_politics.query('comment_author in post_author').copy()\n",
    "clean_text = prep_pipeline(author_df, 'comment_text')\n",
    "author_df['short_text'] = shorten_sens(clean_text, 50)"
   ]
  },
  {
   "cell_type": "code",
   "execution_count": 13,
   "metadata": {},
   "outputs": [],
   "source": [
    "embed_pairs = {}\n",
    "for text, author in zip(author_df['post_title'], author_df['post_author']):\n",
    "    if author not in embed_pairs.keys():\n",
    "        embed_pairs[author] = text\n",
    "    else:\n",
    "        embed_pairs[author] += ' '+text"
   ]
  },
  {
   "cell_type": "code",
   "execution_count": 14,
   "metadata": {},
   "outputs": [
    {
     "name": "stderr",
     "output_type": "stream",
     "text": [
      "[nltk_data] Error loading punkt: <urlopen error [SSL:\n",
      "[nltk_data]     CERTIFICATE_VERIFY_FAILED] certificate verify failed:\n",
      "[nltk_data]     unable to get local issuer certificate (_ssl.c:997)>\n"
     ]
    },
    {
     "data": {
      "application/vnd.jupyter.widget-view+json": {
       "model_id": "cf3b7ac416ef4d80a285c1d23b960bc4",
       "version_major": 2,
       "version_minor": 0
      },
      "text/plain": [
       "Batches:   0%|          | 0/2 [00:00<?, ?it/s]"
      ]
     },
     "metadata": {},
     "output_type": "display_data"
    },
    {
     "name": "stderr",
     "output_type": "stream",
     "text": [
      "/Library/Frameworks/Python.framework/Versions/3.10/lib/python3.10/site-packages/sklearn/cluster/_kmeans.py:870: FutureWarning: The default value of `n_init` will change from 10 to 'auto' in 1.4. Set the value of `n_init` explicitly to suppress the warning\n",
      "  warnings.warn(\n"
     ]
    }
   ],
   "source": [
    "yas  = dict(zip(embed_pairs.keys(),embed_comments(list(embed_pairs.values()))))\n",
    "yas =reduce_to_one_dimension_kmeans(yas)[-1]"
   ]
  },
  {
   "cell_type": "code",
   "execution_count": 15,
   "metadata": {},
   "outputs": [
    {
     "data": {
      "text/plain": [
       "array([[-4.83723486],\n",
       "       [-2.15131746],\n",
       "       [-3.74694958],\n",
       "       [-3.81239968],\n",
       "       [ 2.13432135],\n",
       "       [ 4.53322595],\n",
       "       [-1.96883869],\n",
       "       [-3.92539782],\n",
       "       [-2.77570035],\n",
       "       [-1.31256424],\n",
       "       [ 5.29682305],\n",
       "       [-1.82858446],\n",
       "       [-0.47601628],\n",
       "       [ 1.27235565],\n",
       "       [-4.01146533],\n",
       "       [ 0.67839138],\n",
       "       [ 3.29645277],\n",
       "       [-4.0251622 ],\n",
       "       [-3.95259351],\n",
       "       [ 0.75190188],\n",
       "       [-1.48510865],\n",
       "       [-2.48253709],\n",
       "       [10.40476778],\n",
       "       [-4.87989041],\n",
       "       [ 2.33302161],\n",
       "       [-1.28399745],\n",
       "       [-0.55653052],\n",
       "       [-4.01094063],\n",
       "       [ 3.09003721],\n",
       "       [ 4.29006846],\n",
       "       [11.3523701 ],\n",
       "       [ 1.71345724],\n",
       "       [-1.24094376],\n",
       "       [ 3.10589021],\n",
       "       [ 3.02814482],\n",
       "       [ 5.95451694],\n",
       "       [-1.83331452],\n",
       "       [-5.2682597 ],\n",
       "       [-1.36999922]])"
      ]
     },
     "execution_count": 15,
     "metadata": {},
     "output_type": "execute_result"
    }
   ],
   "source": [
    "yas"
   ]
  },
  {
   "cell_type": "code",
   "execution_count": 16,
   "metadata": {},
   "outputs": [],
   "source": [
    "for i, j in zip(embed_pairs.keys(),yas):\n",
    "    graph_1.add_node(i, polarity = int(j))"
   ]
  },
  {
   "cell_type": "code",
   "execution_count": 17,
   "metadata": {},
   "outputs": [],
   "source": [
    "pairings = list(zip(author_df['comment_author'], author_df['post_author']))"
   ]
  },
  {
   "cell_type": "code",
   "execution_count": 18,
   "metadata": {},
   "outputs": [],
   "source": [
    "polarities = []\n",
    "for comment in author_df['short_text']:\n",
    "    polarities.append(model.classify_text(comment).label)"
   ]
  },
  {
   "cell_type": "code",
   "execution_count": 19,
   "metadata": {},
   "outputs": [],
   "source": [
    "for pair, polarity in zip(pairings, polarities):\n",
    "    graph_1.add_edge(u_of_edge=pair[0], v_of_edge=pair[1], attr=polarity)"
   ]
  },
  {
   "cell_type": "code",
   "execution_count": 20,
   "metadata": {},
   "outputs": [
    {
     "data": {
      "text/plain": [
       "EdgeView([('Picture-unrelated', 'Picture-unrelated'), ('Picture-unrelated', 'LudovicoSpecs'), ('newnemo', 'newnemo'), ('newnemo', 'hopopo'), ('newnemo', 'slaysia'), ('newnemo', 'GDPisnotsustainable'), ('newnemo', 'LudovicoSpecs'), ('newnemo', 'e-r_bridge'), ('newnemo', 'AceCombat9519'), ('theindependentonline', 'theindependentonline'), ('Ozymandias_a', 'Ozymandias_a'), ('LuvKrahft', 'hopopo'), ('LuvKrahft', 'boregon'), ('LuvKrahft', 'modooff'), ('LuvKrahft', 'CrackHeadRodeo'), ('LuvKrahft', 'Darzanak'), ('LuvKrahft', 'MortWellian'), ('semaphore-1842', 'semaphore-1842'), ('HauntingJackfruit', 'LieutJimDangle'), ('bildo72', 'bildo72'), ('bildo72', 'dude_x'), ('joyfullypresent', 'joyfullypresent'), ('CBSnews', 'CBSnews'), ('Sharp_Literature_739', 'Sharp_Literature_739'), ('Sharp_Literature_739', 'Teanaway99'), ('myTchondria', 'myTchondria'), ('FFFFFM', 'Hot-Bint'), ('JackFourj4', 'JackFourj4'), ('ladyem8', 'Scarlettail'), ('Beckles28nz', 'Beckles28nz'), ('Beckles28nz', 'AceCombat9519'), ('southpawFA', 'southpawFA'), ('southpawFA', 'Teanaway99'), ('everlovingkindness', 'everlovingkindness'), ('dude_x', 'Scarlettail'), ('Ok-Flamingo-1499', 'GDPisnotsustainable'), ('WhoIsJolyonWest', 'AceCombat9519'), ('J_ablo', 'Darzanak'), ('Danielnrg', 'Peasant_Stockholder'), ('Danielnrg', 'Danielnrg'), ('UWCG', 'UWCG'), ('Scarlettail', 'AceCombat9519'), ('washingtonpost', 'washingtonpost'), ('dread_beard', 'dread_beard'), ('dread_beard', 'LieutJimDangle'), ('ReallyJustTheFacts', 'ReallyJustTheFacts'), ('ReallyJustTheFacts', 'LudovicoSpecs'), ('thenewrepublic', 'thenewrepublic'), ('vpuetf', 'vpuetf'), ('MortWellian', 'MortWellian'), ('Peasant_Stockholder', 'Peasant_Stockholder'), ('hammadurb', 'AceCombat9519')])"
      ]
     },
     "execution_count": 20,
     "metadata": {},
     "output_type": "execute_result"
    }
   ],
   "source": [
    "graph_1.edges"
   ]
  },
  {
   "cell_type": "code",
   "execution_count": 21,
   "metadata": {},
   "outputs": [
    {
     "data": {
      "image/png": "[encoded data removed]",
      "text/plain": [
       "<Figure size 432x288 with 1 Axes>"
      ]
     },
     "metadata": {},
     "output_type": "display_data"
    }
   ],
   "source": [
    "nx.draw(graph_1)"
   ]
  },
  {
   "cell_type": "code",
   "execution_count": 22,
   "metadata": {},
   "outputs": [
    {
     "data": {
      "text/plain": [
       "46"
      ]
     },
     "execution_count": 22,
     "metadata": {},
     "output_type": "execute_result"
    }
   ],
   "source": [
    "len(graph_1)"
   ]
  },
  {
   "cell_type": "code",
   "execution_count": 23,
   "metadata": {},
   "outputs": [],
   "source": [
    "nx.write_gexf(graph_1, '../data/28feb/graphs/politics_network.gexf')"
   ]
  },
  {
   "cell_type": "code",
   "execution_count": null,
   "metadata": {},
   "outputs": [],
   "source": []
  },
  {
   "cell_type": "code",
   "execution_count": null,
   "metadata": {},
   "outputs": [],
   "source": []
  }
 ],
 "metadata": {
  "kernelspec": {
   "display_name": "Python 3",
   "language": "python",
   "name": "python3"
  },
  "language_info": {
   "codemirror_mode": {
    "name": "ipython",
    "version": 3
   },
   "file_extension": ".py",
   "mimetype": "text/x-python",
   "name": "python",
   "nbconvert_exporter": "python",
   "pygments_lexer": "ipython3",
   "version": "3.10.2"
  },
  "orig_nbformat": 4,
  "vscode": {
   "interpreter": {
    "hash": "aee8b7b246df8f9039afb4144a1f6fd8d2ca17a180786b69acc140d282b71a49"
   }
  }
 },
 "nbformat": 4,
 "nbformat_minor": 2
}
