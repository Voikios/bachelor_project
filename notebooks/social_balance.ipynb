{
 "cells": [
  {
   "cell_type": "code",
   "execution_count": null,
   "metadata": {},
   "outputs": [],
   "source": [
    "import dimod\n",
    "import networkx as nx\n",
    "import dwave_networkx as dnx\n",
    "import reqs.social_balance as sb\n",
    "# social balance from https://github.com/morpheusthewhite/social-balance"
   ]
  },
  {
   "cell_type": "code",
   "execution_count": null,
   "metadata": {},
   "outputs": [],
   "source": [
    "def FE(path):\n",
    "    '''Given path to network, calculates frustrated edges and prints'''\n",
    "\n",
    "    G = nx.read_gexf(path)\n",
    "\n",
    "    n_nodes = G.number_of_nodes()\n",
    "\n",
    "    # getting specific format of edge list\n",
    "    \n",
    "    index_dict = dict()\n",
    "    index_count = 0\n",
    "\n",
    "    edge_list = []\n",
    "    for edge in list(G.edges(data=True)):\n",
    "        n1 = edge[0]\n",
    "        n2 = edge[1]\n",
    "        sign = edge[2]['sign']\n",
    "\n",
    "        if n1 not in index_dict.keys():\n",
    "            index_dict[n1] = index_count\n",
    "            n1_idx = index_count\n",
    "            index_count += 1\n",
    "        else:\n",
    "            n1_idx = index_dict[n1]\n",
    "\n",
    "        if n2 not in index_dict.keys():\n",
    "            index_dict[n2] = index_count\n",
    "            n2_idx = index_count\n",
    "            index_count += 1\n",
    "        else:\n",
    "            n2_idx = index_dict[n2]\n",
    "\n",
    "        append_edge = [n1_idx, n2_idx, sign]\n",
    "        edge_list.append(append_edge)\n",
    "    \n",
    "    print(f'Total edges: {len(G.edges)}')\n",
    "    print(f'Frustrated edges: {sb.frustration_model(n_nodes, edge_list)}')"
   ]
  },
  {
   "cell_type": "code",
   "execution_count": null,
   "metadata": {},
   "outputs": [],
   "source": [
    "print('politics')\n",
    "FE('../data/23march_chur/graphs/politics_nan.gexf')"
   ]
  },
  {
   "cell_type": "code",
   "execution_count": null,
   "metadata": {},
   "outputs": [],
   "source": [
    "print('gaming')\n",
    "FE('../data/23march_chur/graphs/gaming.gexf')"
   ]
  },
  {
   "cell_type": "code",
   "execution_count": null,
   "metadata": {},
   "outputs": [],
   "source": [
    "print('tarkov')\n",
    "FE('../data/19march/graphs/tarkov_network_nan.gexf')"
   ]
  },
  {
   "cell_type": "code",
   "execution_count": null,
   "metadata": {},
   "outputs": [],
   "source": [
    "print('huntShowdown')\n",
    "FE('../data/19march/graphs/HuntShowdown_network_nan.gexf')"
   ]
  }
 ],
 "metadata": {
  "kernelspec": {
   "display_name": "thesis",
   "language": "python",
   "name": "python3"
  },
  "language_info": {
   "codemirror_mode": {
    "name": "ipython",
    "version": 3
   },
   "file_extension": ".py",
   "mimetype": "text/x-python",
   "name": "python",
   "nbconvert_exporter": "python",
   "pygments_lexer": "ipython3",
   "version": "3.10.9"
  },
  "orig_nbformat": 4
 },
 "nbformat": 4,
 "nbformat_minor": 2
}
