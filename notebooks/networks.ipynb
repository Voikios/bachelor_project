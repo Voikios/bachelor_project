{
 "cells": [
  {
   "cell_type": "code",
   "execution_count": 3,
   "metadata": {},
   "outputs": [],
   "source": [
    "#  Importing relevant libraries \n",
    "\n",
    "import networkx as nx\n",
    "import pandas as pd\n",
    "import numpy as np"
   ]
  },
  {
   "cell_type": "code",
   "execution_count": 4,
   "metadata": {},
   "outputs": [
    {
     "data": {
      "text/plain": [
       "array([[ 0.06094637,  0.91552055,  1.2869772 , ..., -0.04788985,\n",
       "        -1.0480981 ,  0.6187169 ],\n",
       "       [-0.77973604,  0.00410217,  0.8210626 , ...,  0.26257285,\n",
       "         0.0587201 ,  0.31874812],\n",
       "       [-0.6782428 ,  1.0646708 , -0.23234925, ...,  0.23575708,\n",
       "        -0.37222692,  0.5781683 ],\n",
       "       ...,\n",
       "       [ 0.00688905, -0.5331427 ,  2.4453437 , ...,  0.28711683,\n",
       "         0.05757681,  0.08896356],\n",
       "       [ 0.00688905, -0.5331427 ,  2.4453437 , ...,  0.28711683,\n",
       "         0.05757681,  0.08896356],\n",
       "       [-0.49058437,  0.7412963 ,  0.20723438, ...,  0.511874  ,\n",
       "        -0.56183094,  0.09581827]], dtype=float32)"
      ]
     },
     "execution_count": 4,
     "metadata": {},
     "output_type": "execute_result"
    }
   ],
   "source": [
    "np.load('../data/embeddings/politics_embeddings.npy')"
   ]
  },
  {
   "cell_type": "code",
   "execution_count": null,
   "metadata": {},
   "outputs": [],
   "source": []
  }
 ],
 "metadata": {
  "kernelspec": {
   "display_name": "Python 3",
   "language": "python",
   "name": "python3"
  },
  "language_info": {
   "codemirror_mode": {
    "name": "ipython",
    "version": 3
   },
   "file_extension": ".py",
   "mimetype": "text/x-python",
   "name": "python",
   "nbconvert_exporter": "python",
   "pygments_lexer": "ipython3",
   "version": "3.10.2"
  },
  "orig_nbformat": 4,
  "vscode": {
   "interpreter": {
    "hash": "aee8b7b246df8f9039afb4144a1f6fd8d2ca17a180786b69acc140d282b71a49"
   }
  }
 },
 "nbformat": 4,
 "nbformat_minor": 2
}
